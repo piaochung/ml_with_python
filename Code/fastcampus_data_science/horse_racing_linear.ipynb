{
 "cells": [
  {
   "cell_type": "markdown",
   "metadata": {},
   "source": [
    "### 캐글 경마 데이터셋을 활용한 선형 회귀 모델\n",
    "성별과 몸무게를 활용하여 승점을 예측하는 모델입니다."
   ]
  },
  {
   "cell_type": "code",
   "execution_count": 119,
   "metadata": {},
   "outputs": [
    {
     "name": "stdout",
     "output_type": "stream",
     "text": [
      "          ID RCTRCK     RACE_DE PRDCTN_NATION_NM SEX  AGE  BND_WT TRNER  \\\n",
      "27213  27214     제주  2014-11-29                한   거  NaN    56.0   강대은   \n",
      "27214  27215     제주  2014-11-29                한   거  NaN    55.5   박병진   \n",
      "27215  27216     제주  2014-11-29                한   거  NaN    52.5   김영래   \n",
      "27216  27217     제주  2014-11-29                한   거  NaN    53.0   강대은   \n",
      "27217  27218     제주  2014-11-29                한   거  NaN    57.5   박병진   \n",
      "\n",
      "      RCHOSE_OWNR_NM  RCHOSE_BDWGH  \n",
      "27213            김영구           300  \n",
      "27214            고경수           300  \n",
      "27215           광명종합           333  \n",
      "27216            김기준           281  \n",
      "27217            강상우           314  \n"
     ]
    }
   ],
   "source": [
    "df = pd.read_csv('./2014_s.csv', encoding='euc-kr')\n",
    "print(df.tail())"
   ]
  },
  {
   "cell_type": "code",
   "execution_count": 112,
   "metadata": {},
   "outputs": [],
   "source": [
    "from sklearn import linear_model\n",
    "from sklearn.model_selection import train_test_split\n",
    "from sklearn.metrics import mean_absolute_error\n",
    "from sklearn.metrics import accuracy_score"
   ]
  },
  {
   "cell_type": "code",
   "execution_count": 121,
   "metadata": {},
   "outputs": [],
   "source": [
    "def get_sex(sex):\n",
    "    number = 0\n",
    "    if sex == '암': number = 2\n",
    "    elif sex == '수': number = 1\n",
    "    return number\n",
    "\n",
    "df['NUMBER_SEX'] = df['SEX'].apply(lambda x : get_sex(x))"
   ]
  },
  {
   "cell_type": "code",
   "execution_count": 122,
   "metadata": {},
   "outputs": [],
   "source": [
    "df_x = df[['NUMBER_SEX', 'RCHOSE_BDWGH']]\n",
    "df_y = df[['BND_WT']]"
   ]
  },
  {
   "cell_type": "code",
   "execution_count": 123,
   "metadata": {},
   "outputs": [],
   "source": [
    "X_train, X_test, y_train, y_test = train_test_split(df_x, df_y, test_size=0.3, random_state=121)"
   ]
  },
  {
   "cell_type": "code",
   "execution_count": 124,
   "metadata": {},
   "outputs": [
    {
     "data": {
      "text/plain": [
       "LinearRegression()"
      ]
     },
     "execution_count": 124,
     "metadata": {},
     "output_type": "execute_result"
    }
   ],
   "source": [
    "model = linear_model.LinearRegression()\n",
    "model.fit(X_train, y_train)"
   ]
  },
  {
   "cell_type": "code",
   "execution_count": 125,
   "metadata": {},
   "outputs": [],
   "source": [
    "lr_pred = model.predict(X_test)\n",
    "mae = mean_absolute_error(y_test, lr_pred)"
   ]
  },
  {
   "cell_type": "code",
   "execution_count": 126,
   "metadata": {},
   "outputs": [
    {
     "name": "stdout",
     "output_type": "stream",
     "text": [
      "1.3\n"
     ]
    }
   ],
   "source": [
    "print(round(mae, 2))"
   ]
  }
 ],
 "metadata": {
  "kernelspec": {
   "display_name": "Python 3",
   "language": "python",
   "name": "python3"
  },
  "language_info": {
   "codemirror_mode": {
    "name": "ipython",
    "version": 3
   },
   "file_extension": ".py",
   "mimetype": "text/x-python",
   "name": "python",
   "nbconvert_exporter": "python",
   "pygments_lexer": "ipython3",
   "version": "3.8.5"
  }
 },
 "nbformat": 4,
 "nbformat_minor": 4
}
