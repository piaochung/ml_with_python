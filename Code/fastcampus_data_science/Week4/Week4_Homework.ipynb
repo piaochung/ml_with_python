{
 "cells": [
  {
   "cell_type": "markdown",
   "metadata": {},
   "source": [
    "## [4주차] PCA를 통해 신체 지수 만들기\n",
    "\n",
    "- sklearn의 Linnerrud 데이터셋은 피트니스 클럽의 20대 중반 남성 20명에 대해 \n",
    "턱걸이, 윗몸일으키기, 점프 / 체중, 허리둘레, 맥박을 측정한 자료입니다.\n",
    "  - ##### 요구사항1) Linnerrud 데이터셋의 상세 설명을 print 하세요\n",
    "    - ##### *힌트1) .DESCR을 통해 데이터셋에 대한 설명을 알 수 있다.*\n",
    "  \n",
    "  - ##### 요구사항2) data와 target 매서드의 데이터를 모두 병합해 total이란 변수에 저장해주세요. [Chins, Situps, Jumps, Weight, Waist and Pulse] 순\n",
    "    - ##### *힌트2) np.stack (vstack과 hstack 중 알맞은 것을 선택)\n",
    "\n",
    "  - ##### 요구사항3) total 데이터를 1개의 차원으로 축소해 하나의 신체 지수를 body_index에 저장해주세요.\n",
    "\n",
    "  - ##### 요구사항4) body_index를 다시 복원한 data를 recovered_data에 저장하고 total과 recovered_data를 각각 출력하세요\n",
    "\n",
    " - ##### 요구사항5) pca 변환을 통해 total의 분산을 몇% 나타내는지 explained_variance 변수에 저장하고 이를 소수 둘째 자리에서 반올림해 출력하세요.\n",
    "  - * 힌트4) pca.explained_variance_ratio*\n",
    "  - * 힌트5) type에러가 왜 발생하고, 어떻게 해결할 수 있을지 고민해보세요.\n",
    "\n",
    "`"
   ]
  },
  {
   "cell_type": "markdown",
   "metadata": {},
   "source": [
    "  - ##### 요구사항1) Linnerrud 데이터셋의 상세 설명을 print 하세요\n",
    "    - ##### *힌트1) .DESCR을 통해 데이터셋에 대한 설명을 알 수 있다."
   ]
  },
  {
   "cell_type": "code",
   "execution_count": 16,
   "metadata": {},
   "outputs": [
    {
     "name": "stdout",
     "output_type": "stream",
     "text": [
      ".. _linnerrud_dataset:\n",
      "\n",
      "Linnerrud dataset\n",
      "-----------------\n",
      "\n",
      "**Data Set Characteristics:**\n",
      "\n",
      "    :Number of Instances: 20\n",
      "    :Number of Attributes: 3\n",
      "    :Missing Attribute Values: None\n",
      "\n",
      "The Linnerud dataset is a multi-output regression dataset. It consists of three\n",
      "excercise (data) and three physiological (target) variables collected from\n",
      "twenty middle-aged men in a fitness club:\n",
      "\n",
      "- *physiological* - CSV containing 20 observations on 3 physiological variables:\n",
      "   Weight, Waist and Pulse.\n",
      "- *exercise* - CSV containing 20 observations on 3 exercise variables:\n",
      "   Chins, Situps and Jumps.\n",
      "\n",
      ".. topic:: References\n",
      "\n",
      "  * Tenenhaus, M. (1998). La regression PLS: theorie et pratique. Paris:\n",
      "    Editions Technic.\n",
      "\n"
     ]
    }
   ],
   "source": [
    "# 여기에 코드를 작성해주세요.\n",
    "\n",
    "from sklearn.datasets import load_linnerud\n",
    "from sklearn.decomposition import PCA\n",
    "import numpy as np\n",
    "import pandas as pd\n",
    "\n",
    "ll = load_linnerud()\n",
    "print(ll.DESCR)"
   ]
  },
  {
   "cell_type": "code",
   "execution_count": 14,
   "metadata": {},
   "outputs": [],
   "source": [
    "data = ll['data']\n",
    "target = ll['target']"
   ]
  },
  {
   "cell_type": "code",
   "execution_count": 17,
   "metadata": {},
   "outputs": [
    {
     "data": {
      "text/plain": [
       "(array([[  5., 162.,  60.],\n",
       "        [  2., 110.,  60.],\n",
       "        [ 12., 101., 101.],\n",
       "        [ 12., 105.,  37.],\n",
       "        [ 13., 155.,  58.]]),\n",
       " array([[191.,  36.,  50.],\n",
       "        [189.,  37.,  52.],\n",
       "        [193.,  38.,  58.],\n",
       "        [162.,  35.,  62.],\n",
       "        [189.,  35.,  46.]]))"
      ]
     },
     "execution_count": 17,
     "metadata": {},
     "output_type": "execute_result"
    }
   ],
   "source": [
    "data[:5], target[:5]"
   ]
  },
  {
   "cell_type": "code",
   "execution_count": 21,
   "metadata": {},
   "outputs": [
    {
     "data": {
      "text/plain": [
       "((20, 3), (20, 3))"
      ]
     },
     "execution_count": 21,
     "metadata": {},
     "output_type": "execute_result"
    }
   ],
   "source": [
    "data.shape, target.shape"
   ]
  },
  {
   "cell_type": "code",
   "execution_count": 23,
   "metadata": {},
   "outputs": [
    {
     "name": "stdout",
     "output_type": "stream",
     "text": [
      "[[  5. 162.  60. 191.  36.  50.]\n",
      " [  2. 110.  60. 189.  37.  52.]\n",
      " [ 12. 101. 101. 193.  38.  58.]\n",
      " [ 12. 105.  37. 162.  35.  62.]\n",
      " [ 13. 155.  58. 189.  35.  46.]\n",
      " [  4. 101.  42. 182.  36.  56.]\n",
      " [  8. 101.  38. 211.  38.  56.]\n",
      " [  6. 125.  40. 167.  34.  60.]\n",
      " [ 15. 200.  40. 176.  31.  74.]\n",
      " [ 17. 251. 250. 154.  33.  56.]\n",
      " [ 17. 120.  38. 169.  34.  50.]\n",
      " [ 13. 210. 115. 166.  33.  52.]\n",
      " [ 14. 215. 105. 154.  34.  64.]\n",
      " [  1.  50.  50. 247.  46.  50.]\n",
      " [  6.  70.  31. 193.  36.  46.]\n",
      " [ 12. 210. 120. 202.  37.  62.]\n",
      " [  4.  60.  25. 176.  37.  54.]\n",
      " [ 11. 230.  80. 157.  32.  52.]\n",
      " [ 15. 225.  73. 156.  33.  54.]\n",
      " [  2. 110.  43. 138.  33.  68.]]\n"
     ]
    }
   ],
   "source": [
    "total = np.hstack((data, target))\n",
    "print(total)"
   ]
  },
  {
   "cell_type": "code",
   "execution_count": 25,
   "metadata": {},
   "outputs": [
    {
     "name": "stdout",
     "output_type": "stream",
     "text": [
      "[[  4.84819239]\n",
      " [-36.37337868]\n",
      " [-19.71530279]\n",
      " [-48.87880057]\n",
      " [ -1.24439301]\n",
      " [-52.7513643 ]\n",
      " [-59.41274725]\n",
      " [-32.28039126]\n",
      " [ 26.78843143]\n",
      " [192.82401404]\n",
      " [-37.38376798]\n",
      " [ 79.442903  ]\n",
      " [ 79.6880306 ]\n",
      " [-99.21237644]\n",
      " [-85.61627864]\n",
      " [ 76.83255115]\n",
      " [-94.42592828]\n",
      " [ 76.29783425]\n",
      " [ 68.59828074]\n",
      " [-38.02550839]]\n"
     ]
    }
   ],
   "source": [
    "pca = PCA(n_components=1)\n",
    "body_index = pca.fit_transform(total)\n",
    "print(body_index)"
   ]
  },
  {
   "cell_type": "code",
   "execution_count": 26,
   "metadata": {},
   "outputs": [
    {
     "name": "stdout",
     "output_type": "stream",
     "text": [
      "[[  5. 162.  60. 191.  36.  50.]\n",
      " [  2. 110.  60. 189.  37.  52.]\n",
      " [ 12. 101. 101. 193.  38.  58.]\n",
      " [ 12. 105.  37. 162.  35.  62.]\n",
      " [ 13. 155.  58. 189.  35.  46.]\n",
      " [  4. 101.  42. 182.  36.  56.]\n",
      " [  8. 101.  38. 211.  38.  56.]\n",
      " [  6. 125.  40. 167.  34.  60.]\n",
      " [ 15. 200.  40. 176.  31.  74.]\n",
      " [ 17. 251. 250. 154.  33.  56.]\n",
      " [ 17. 120.  38. 169.  34.  50.]\n",
      " [ 13. 210. 115. 166.  33.  52.]\n",
      " [ 14. 215. 105. 154.  34.  64.]\n",
      " [  1.  50.  50. 247.  46.  50.]\n",
      " [  6.  70.  31. 193.  36.  46.]\n",
      " [ 12. 210. 120. 202.  37.  62.]\n",
      " [  4.  60.  25. 176.  37.  54.]\n",
      " [ 11. 230.  80. 157.  32.  52.]\n",
      " [ 15. 225.  73. 156.  33.  54.]\n",
      " [  2. 110.  43. 138.  33.  68.]]\n",
      "[[  9.68240123 149.40974964  73.12363867 177.85161938  35.28616082\n",
      "   56.1855779 ]\n",
      " [  7.70641862 116.59237538  49.11575846 184.21469709  36.2540741\n",
      "   55.45795509]\n",
      " [  8.50493424 129.85422583  58.81759854 181.64330962  35.86293004\n",
      "   55.75199522]\n",
      " [  7.10696316 106.63654159  41.83246811 186.1450692   36.54771075\n",
      "   55.23721556]\n",
      " [  9.39034922 144.55931212  69.57525231 178.79208801  35.42921928\n",
      "   56.07803459]\n",
      " [  6.92132931 103.55351078  39.57704592 186.74284904  36.63864144\n",
      "   55.16885898]\n",
      " [  6.60201163  98.25024137  35.69738584 187.77111885  36.79505568\n",
      "   55.05127554]\n",
      " [  7.90261862 119.8508902   51.49955775 183.58289203  36.1579677\n",
      "   55.53020248]\n",
      " [ 10.73412075 166.87684314  85.9018666  174.46486234  34.77098762\n",
      "   56.57285616]\n",
      " [ 18.69314353 299.06132114 182.60275097 148.83514259  30.87234812\n",
      "   59.50363423]\n",
      " [  7.65798496 115.78798285  48.52729701 184.37066362  36.2777988\n",
      "   55.4401202 ]\n",
      " [ 13.25814681 208.79619397 116.56838932 166.33696994  33.5346213\n",
      "   57.50228687]\n",
      " [ 13.26989716 208.9913453  116.71115423 166.29913135  33.52886552\n",
      "   57.50661375]\n",
      " [  4.69419072  66.56490544  12.51765966 193.91470161  37.7295807\n",
      "   54.34875215]\n",
      " [  5.34592844  77.38904966  20.43617123 191.8159697   37.41033417\n",
      "   54.58874375]\n",
      " [ 13.13301791 206.71803705 115.04809272 166.7399112   33.59591431\n",
      "   57.45621023]\n",
      " [  4.9236322   70.37549919  15.30533784 193.175852    37.61719133\n",
      "   54.43324017]\n",
      " [ 13.10738592 206.29233749 114.73666792 166.8224516   33.60846986\n",
      "   57.44677168]\n",
      " [ 12.73830285 200.16255828 110.25236629 168.01097635  33.78926113\n",
      "   57.31086296]\n",
      " [  7.62722272 115.27707959  48.15354059 184.46972448  36.29286734\n",
      "   55.42879251]]\n"
     ]
    }
   ],
   "source": [
    "#요구사항4\n",
    "\n",
    "recovered_data = pca.inverse_transform(body_index)\n",
    "print(total)\n",
    "print(recovered_data)"
   ]
  },
  {
   "cell_type": "code",
   "execution_count": 32,
   "metadata": {},
   "outputs": [
    {
     "name": "stdout",
     "output_type": "stream",
     "text": [
      "0.78\n"
     ]
    }
   ],
   "source": [
    "explained_variance = pca.explained_variance_ratio_\n",
    "print(np.round(sum(explained_variance), 2))"
   ]
  }
 ],
 "metadata": {
  "kernelspec": {
   "display_name": "Python 3",
   "language": "python",
   "name": "python3"
  },
  "language_info": {
   "codemirror_mode": {
    "name": "ipython",
    "version": 3
   },
   "file_extension": ".py",
   "mimetype": "text/x-python",
   "name": "python",
   "nbconvert_exporter": "python",
   "pygments_lexer": "ipython3",
   "version": "3.8.5"
  }
 },
 "nbformat": 4,
 "nbformat_minor": 4
}
