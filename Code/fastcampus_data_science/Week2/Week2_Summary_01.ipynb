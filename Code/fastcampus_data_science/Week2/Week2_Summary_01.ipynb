{
 "cells": [
  {
   "cell_type": "markdown",
   "metadata": {},
   "source": [
    "## 판다스의 데이터 타입"
   ]
  },
  {
   "cell_type": "markdown",
   "metadata": {},
   "source": [
    "### Series: index와 value로 이뤄진 데이터 타입, 1차원 배열\n",
    "    - 딕셔너리를 사용한 생성(리스트 -> 시리즈)\n",
    "    - 리스트를 사용한 생성(딕셔너리 -> 시리즈)\n",
    "    - 시리즈 index 설정 1\n",
    "    - 시리즈 index 설정 2\n",
    "    - 시리즈 원소 선택 1 - index 지정 선택\n",
    "    - 시리즈 원소 선택 2 - index 범위 선택"
   ]
  },
  {
   "cell_type": "code",
   "execution_count": 3,
   "metadata": {},
   "outputs": [],
   "source": [
    "import pandas as pd"
   ]
  },
  {
   "cell_type": "code",
   "execution_count": 19,
   "metadata": {},
   "outputs": [
    {
     "data": {
      "text/plain": [
       "0         파이썬\n",
       "1          a+\n",
       "2          98\n",
       "3    데이터 사이언스\n",
       "dtype: object"
      ]
     },
     "execution_count": 19,
     "metadata": {},
     "output_type": "execute_result"
    }
   ],
   "source": [
    "# 리스트 -> 시리즈\n",
    "data1 = ['파이썬', 'a+', 98, '데이터 사이언스']\n",
    "sr1 = pd.Series(data1)\n",
    "sr1"
   ]
  },
  {
   "cell_type": "code",
   "execution_count": 4,
   "metadata": {
    "scrolled": true
   },
   "outputs": [
    {
     "data": {
      "text/plain": [
       "a    1\n",
       "b    2\n",
       "c    3\n",
       "dtype: int64"
      ]
     },
     "execution_count": 4,
     "metadata": {},
     "output_type": "execute_result"
    }
   ],
   "source": [
    "# 딕셔너리 -> 시리즈\n",
    "data2 = {'a': 1, 'b': 2, 'c': 3}\n",
    "sr2 = pd.Series(data2)\n",
    "sr2"
   ]
  },
  {
   "cell_type": "code",
   "execution_count": 21,
   "metadata": {},
   "outputs": [
    {
     "data": {
      "text/plain": [
       "프로그래밍         파이썬\n",
       "성적             a+\n",
       "점수             98\n",
       "과목       데이터 사이언스\n",
       "dtype: object"
      ]
     },
     "execution_count": 21,
     "metadata": {},
     "output_type": "execute_result"
    }
   ],
   "source": [
    "# 시리즈 index 설정 1\n",
    "sr1.index = ['프로그래밍', '성적', '점수', '과목']\n",
    "sr1"
   ]
  },
  {
   "cell_type": "code",
   "execution_count": 22,
   "metadata": {},
   "outputs": [
    {
     "data": {
      "text/plain": [
       "a    1\n",
       "b    2\n",
       "c    3\n",
       "dtype: int64"
      ]
     },
     "execution_count": 22,
     "metadata": {},
     "output_type": "execute_result"
    }
   ],
   "source": [
    "# 시리즈 index 설정 2\n",
    "sr2 = pd.Series(data2, index=list('abc'))\n",
    "sr2"
   ]
  },
  {
   "cell_type": "code",
   "execution_count": 5,
   "metadata": {},
   "outputs": [
    {
     "data": {
      "text/plain": [
       "(1, 2)"
      ]
     },
     "execution_count": 5,
     "metadata": {},
     "output_type": "execute_result"
    }
   ],
   "source": [
    "# 시리즈 원소 선택 1 - index 지정 선택\n",
    "sr2[0], sr2['b']"
   ]
  },
  {
   "cell_type": "code",
   "execution_count": 8,
   "metadata": {},
   "outputs": [
    {
     "data": {
      "text/plain": [
       "(b    2\n",
       " c    3\n",
       " a    1\n",
       " dtype: int64,\n",
       " b    2\n",
       " c    3\n",
       " dtype: int64)"
      ]
     },
     "execution_count": 8,
     "metadata": {},
     "output_type": "execute_result"
    }
   ],
   "source": [
    "# 시리즈 원소 선택 2 - index 범위 선택\n",
    "sr2[[1,2]], sr2[1:3]"
   ]
  },
  {
   "cell_type": "markdown",
   "metadata": {},
   "source": [
    "### DataFrame: index, column, value로 이뤄진 데이터 타입, 2차원 배열\n",
    "    - 딕셔너리를 사용한 생성(리스트 딕셔너리 -> 데이터 프레임)\n",
    "    - 리스트를 사용한 생성(딕셔너리 리스트 -> 데이터 프레임)\n",
    "    - 데이터 프레임 index 설정 1\n",
    "    - 데이터 프레임 index 설정 2\n",
    "    - 데이터 프레임 column, index 변경\n",
    "    - 데이터 프레임 index 수정 및 추가\n",
    "    - 데이터 프레임 column 추가\n",
    "    - 데이터 프레임 column 수정\n",
    "    - 데이터 프레임 column 선택\n",
    "    - 데이터 프레임 row 선택\n",
    "    - 데이터 프레임 타입 확인\n",
    "    - 데이터 프레임 타입 수정\n",
    "    - 상위 데이터 출력\n",
    "    - 하위 데이터 출력"
   ]
  },
  {
   "cell_type": "code",
   "execution_count": 154,
   "metadata": {},
   "outputs": [
    {
     "name": "stdout",
     "output_type": "stream",
     "text": [
      "           name                   email\n",
      "0     righteous     righteous@gmail.com\n",
      "1  olivevolcano  olivevolcano@naver.com\n"
     ]
    }
   ],
   "source": [
    "# 리스트 딕셔너리 -> 데이터 프레임\n",
    "data1 = [\n",
    "    {'name': 'righteous', 'email': 'righteous@gmail.com'},\n",
    "    {'name': 'olivevolcano', 'email': 'olivevolcano@naver.com'}\n",
    "]\n",
    "df1 = pd.DataFrame(data1)\n",
    "print(df1)"
   ]
  },
  {
   "cell_type": "code",
   "execution_count": 155,
   "metadata": {},
   "outputs": [
    {
     "name": "stdout",
     "output_type": "stream",
     "text": [
      "           name                   email\n",
      "0     righteous     righteous@gmail.com\n",
      "1  olivevolcano  olivevolcano@naver.com\n"
     ]
    }
   ],
   "source": [
    "# 딕셔너리 리스트 -> 데이터 프레임\n",
    "data2 = {\n",
    "    'name': ['righteous', 'olivevolcano'],\n",
    "    'email': ['righteous@gmail.com', 'olivevolcano@naver.com']\n",
    "}\n",
    "df2 = pd.DataFrame(data2)\n",
    "print(df2)"
   ]
  },
  {
   "cell_type": "code",
   "execution_count": 156,
   "metadata": {},
   "outputs": [
    {
     "name": "stdout",
     "output_type": "stream",
     "text": [
      "           name                   email\n",
      "a     righteous     righteous@gmail.com\n",
      "b  olivevolcano  olivevolcano@naver.com\n"
     ]
    }
   ],
   "source": [
    "# 데이터 프레임 index 설정 1\n",
    "df = pd.DataFrame(data2, index=['a', 'b'])\n",
    "print(df)"
   ]
  },
  {
   "cell_type": "code",
   "execution_count": 157,
   "metadata": {},
   "outputs": [
    {
     "name": "stdout",
     "output_type": "stream",
     "text": [
      "           name                   email\n",
      "a     righteous     righteous@gmail.com\n",
      "b  olivevolcano  olivevolcano@naver.com\n"
     ]
    }
   ],
   "source": [
    "# 데이터 프레임 index 설정 2\n",
    "df = pd.DataFrame(data2, index=list('ab'))\n",
    "print(df)"
   ]
  },
  {
   "cell_type": "code",
   "execution_count": 158,
   "metadata": {},
   "outputs": [
    {
     "name": "stdout",
     "output_type": "stream",
     "text": [
      "          name2                  email2\n",
      "c     righteous     righteous@gmail.com\n",
      "d  olivevolcano  olivevolcano@naver.com\n"
     ]
    }
   ],
   "source": [
    "# 데이터 프레임 column, index 변경\n",
    "df.rename(columns={'name':'name2', 'email':'email2'}, inplace=True)\n",
    "df.rename(index={'a': 'c', 'b': 'd'}, inplace=True)\n",
    "print(df)"
   ]
  },
  {
   "cell_type": "code",
   "execution_count": 159,
   "metadata": {
    "scrolled": true
   },
   "outputs": [
    {
     "name": "stdout",
     "output_type": "stream",
     "text": [
      "          name2                  email2\n",
      "c     righteous     righteous@gmail.com\n",
      "d  olivevolcano  olivevolcano@naver.com\n",
      "e       dead_pp        deap_pp@nate.com\n"
     ]
    }
   ],
   "source": [
    "# 데이터 프레임 row 추가\n",
    "df.loc['e'] = {'name2': 'dead_pp', 'email2':'deap_pp@nate.com'}\n",
    "print(df)"
   ]
  },
  {
   "cell_type": "code",
   "execution_count": 160,
   "metadata": {},
   "outputs": [
    {
     "name": "stdout",
     "output_type": "stream",
     "text": [
      "           name2                  email2\n",
      "c      righteous     righteous@gmail.com\n",
      "d  olivevolcano2  olivevolcano2@nate.com\n",
      "e        dead_pp        deap_pp@nate.com\n"
     ]
    }
   ],
   "source": [
    "# 데이터 프레임 row 수정\n",
    "df.loc['d'] = {'name2': 'olivevolcano2', 'email2':'olivevolcano2@nate.com', 'id': 3.0}\n",
    "print(df)"
   ]
  },
  {
   "cell_type": "code",
   "execution_count": 161,
   "metadata": {
    "scrolled": true
   },
   "outputs": [
    {
     "data": {
      "text/plain": [
       "name2               righteous\n",
       "email2    righteous@gmail.com\n",
       "Name: c, dtype: object"
      ]
     },
     "execution_count": 161,
     "metadata": {},
     "output_type": "execute_result"
    }
   ],
   "source": [
    "# 데이터 프레임 row 선택\n",
    "df.loc['c']"
   ]
  },
  {
   "cell_type": "code",
   "execution_count": 162,
   "metadata": {},
   "outputs": [
    {
     "name": "stdout",
     "output_type": "stream",
     "text": [
      "           name2                  email2\n",
      "d  olivevolcano2  olivevolcano2@nate.com\n",
      "e        dead_pp        deap_pp@nate.com\n"
     ]
    }
   ],
   "source": [
    "# 데이터 프레임 row 삭제\n",
    "df2 = df.drop('c')\n",
    "print(df2)"
   ]
  },
  {
   "cell_type": "code",
   "execution_count": 163,
   "metadata": {},
   "outputs": [
    {
     "name": "stdout",
     "output_type": "stream",
     "text": [
      "           name2                  email2  id\n",
      "c      righteous     righteous@gmail.com   0\n",
      "d  olivevolcano2  olivevolcano2@nate.com   0\n",
      "e        dead_pp        deap_pp@nate.com   0\n"
     ]
    }
   ],
   "source": [
    "# 데이터 프레임 column 추가\n",
    "df['id'] = 0\n",
    "print(df)"
   ]
  },
  {
   "cell_type": "code",
   "execution_count": 173,
   "metadata": {},
   "outputs": [
    {
     "name": "stdout",
     "output_type": "stream",
     "text": [
      "           name2                  email2  id\n",
      "c      righteous     righteous@gmail.com   1\n",
      "d  olivevolcano2  olivevolcano2@nate.com   2\n",
      "e        dead_pp        deap_pp@nate.com   3\n"
     ]
    }
   ],
   "source": [
    "# 데이터 프레임 column 수정\n",
    "df['id'] = range(1,4)\n",
    "print(df)"
   ]
  },
  {
   "cell_type": "code",
   "execution_count": 166,
   "metadata": {},
   "outputs": [
    {
     "data": {
      "text/plain": [
       "c        righteous\n",
       "d    olivevolcano2\n",
       "e          dead_pp\n",
       "Name: name2, dtype: object"
      ]
     },
     "execution_count": 166,
     "metadata": {},
     "output_type": "execute_result"
    }
   ],
   "source": [
    "# 데이터 프레임 column 선택\n",
    "df['name2']"
   ]
  },
  {
   "cell_type": "code",
   "execution_count": 167,
   "metadata": {},
   "outputs": [
    {
     "name": "stdout",
     "output_type": "stream",
     "text": [
      "           name2                  email2\n",
      "c      righteous     righteous@gmail.com\n",
      "d  olivevolcano2  olivevolcano2@nate.com\n",
      "e        dead_pp        deap_pp@nate.com\n"
     ]
    }
   ],
   "source": [
    "# 데이터 프레임 column 삭제\n",
    "df2 = df.drop('id', axis=1)\n",
    "print(df2)"
   ]
  },
  {
   "cell_type": "code",
   "execution_count": 168,
   "metadata": {},
   "outputs": [
    {
     "data": {
      "text/plain": [
       "name2     object\n",
       "email2    object\n",
       "id         int32\n",
       "dtype: object"
      ]
     },
     "execution_count": 168,
     "metadata": {},
     "output_type": "execute_result"
    }
   ],
   "source": [
    "# 데이터 프레임 타입 확인\n",
    "df.dtypes"
   ]
  },
  {
   "cell_type": "code",
   "execution_count": 169,
   "metadata": {},
   "outputs": [
    {
     "data": {
      "text/plain": [
       "name2      object\n",
       "email2     object\n",
       "id        float64\n",
       "dtype: object"
      ]
     },
     "execution_count": 169,
     "metadata": {},
     "output_type": "execute_result"
    }
   ],
   "source": [
    "# 데이터 프레임 타입 수정\n",
    "df = df.astype({'id': 'float'})\n",
    "df.dtypes"
   ]
  },
  {
   "cell_type": "code",
   "execution_count": 170,
   "metadata": {},
   "outputs": [
    {
     "name": "stdout",
     "output_type": "stream",
     "text": [
      "           name2                  email2   id\n",
      "c      righteous     righteous@gmail.com  1.0\n",
      "d  olivevolcano2  olivevolcano2@nate.com  2.0\n"
     ]
    }
   ],
   "source": [
    "# 상위 데이터 출력\n",
    "print(df.head(2))"
   ]
  },
  {
   "cell_type": "code",
   "execution_count": 171,
   "metadata": {},
   "outputs": [
    {
     "name": "stdout",
     "output_type": "stream",
     "text": [
      "           name2                  email2   id\n",
      "d  olivevolcano2  olivevolcano2@nate.com  2.0\n",
      "e        dead_pp        deap_pp@nate.com  3.0\n"
     ]
    }
   ],
   "source": [
    "# 하위 데이터 출력\n",
    "print(df.tail(2))"
   ]
  }
 ],
 "metadata": {
  "kernelspec": {
   "display_name": "Python 3",
   "language": "python",
   "name": "python3"
  },
  "language_info": {
   "codemirror_mode": {
    "name": "ipython",
    "version": 3
   },
   "file_extension": ".py",
   "mimetype": "text/x-python",
   "name": "python",
   "nbconvert_exporter": "python",
   "pygments_lexer": "ipython3",
   "version": "3.8.5"
  }
 },
 "nbformat": 4,
 "nbformat_minor": 4
}
