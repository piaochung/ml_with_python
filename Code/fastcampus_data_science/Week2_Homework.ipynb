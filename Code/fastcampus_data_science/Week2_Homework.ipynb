{
 "cells": [
  {
   "cell_type": "markdown",
   "metadata": {},
   "source": [
    "Myclass라는 이름으로 인자값 1개를 받을 수 있게 클래스를 만들어 주세요. (4점)\n",
    "Myclass의 인자값은 mangling를 사용하세요.(2점)\n",
    "Myclass에서 스페셜 메서드(__str__)를 활용하여 해당 클래스로 만든 객체를 print()로 출력 했을 때, \"Print: 인자값\" 이라고 꾸며줄 수 있도록 하세요.(테스트 코드를 실행시키면 예상결과와 같이 출력되야 합니다) (4점)"
   ]
  },
  {
   "cell_type": "code",
   "execution_count": 20,
   "metadata": {},
   "outputs": [],
   "source": [
    "class Myclass:\n",
    "    def __init__(self, test):\n",
    "        self.__test = test\n",
    "    def __str__(self):\n",
    "        return \"print: {}\".format(self.__test)"
   ]
  },
  {
   "cell_type": "code",
   "execution_count": 21,
   "metadata": {},
   "outputs": [
    {
     "name": "stdout",
     "output_type": "stream",
     "text": [
      "print: test\n"
     ]
    }
   ],
   "source": [
    "# 테스트 코드\n",
    "c1 = Myclass(\"test\")\n",
    "print(c1)\n",
    "\n",
    "# 예상결과 -> print: test"
   ]
  },
  {
   "cell_type": "markdown",
   "metadata": {},
   "source": [
    "2.생성된 데이터를 활용하여 아래의 조건에 맞게 선형 회귀분석을 하고, 성능평가를 하세요.\n",
    "(10점)\n",
    "\n",
    "조건 : random state는 1234, test siz는는 0.2 입니다. 코드 하단에 pred_y와 round(mae,2) 값을 출력하세요"
   ]
  },
  {
   "cell_type": "code",
   "execution_count": 9,
   "metadata": {},
   "outputs": [],
   "source": [
    "import numpy as np\n",
    "import pandas as pd\n",
    "\n",
    "df = pd.DataFrame({'name': ['Manchester City', 'Manchester United', 'Tottenham Hotspur',\n",
    "       'Liverpool', 'Chelsea', 'Arsenal', 'Burnley', 'Everton',\n",
    "       'Leicester City', 'Newcastle United', 'Crystal Palace',\n",
    "       'Bournemouth', 'West Ham United', 'Watford',\n",
    "       'Brighton and Hove Albion', 'Huddersfield Town', 'Southampton',\n",
    "       'Swansea City', 'Stoke City', 'West Bromwich Albion'],\n",
    "    'gf': [106,  68,  74,  84,  62,  74,  36,  44,  56,  39,  45,  45,  48,\n",
    "        44,  34,  28,  37,  28,  35,  31],\n",
    "    'ga': [27, 28, 36, 38, 38, 51, 39, 58, 60, 47, 55, 61, 68, 64, 54, 58, 56,\n",
    "       56, 68, 56],\n",
    "    'points': [100,  81,  77,  75,  70,  63,  54,  49,  47,  44,  44,  44,  42,\n",
    "        41,  40,  37,  36,  33,  33,  31]\n",
    "})"
   ]
  },
  {
   "cell_type": "code",
   "execution_count": 19,
   "metadata": {},
   "outputs": [
    {
     "name": "stdout",
     "output_type": "stream",
     "text": [
      "[[80.7291084 ]\n",
      " [39.48577501]\n",
      " [76.20087983]\n",
      " [40.80603755]] 3.21\n"
     ]
    }
   ],
   "source": [
    "from sklearn import linear_model\n",
    "from sklearn.model_selection import train_test_split\n",
    "from sklearn.metrics import mean_absolute_error\n",
    "\n",
    "df_x = df[['gf', 'ga']]\n",
    "df_y = df[['points']]\n",
    "\n",
    "X_train, X_test, y_train, y_test = train_test_split(df_x, df_y, test_size = 0.2, random_state = 1234)\n",
    "\n",
    "model = linear_model.LinearRegression()\n",
    "model.fit(X_train, y_train)\n",
    "pred_y = model.predict(X_test)\n",
    "mae = mean_absolute_error(y_test, pred_y)\n",
    "\n",
    "print(pred_y, round(mae, 2))"
   ]
  },
  {
   "cell_type": "code",
   "execution_count": null,
   "metadata": {},
   "outputs": [],
   "source": []
  },
  {
   "cell_type": "code",
   "execution_count": null,
   "metadata": {},
   "outputs": [],
   "source": []
  }
 ],
 "metadata": {
  "kernelspec": {
   "display_name": "Python 3",
   "language": "python",
   "name": "python3"
  },
  "language_info": {
   "codemirror_mode": {
    "name": "ipython",
    "version": 3
   },
   "file_extension": ".py",
   "mimetype": "text/x-python",
   "name": "python",
   "nbconvert_exporter": "python",
   "pygments_lexer": "ipython3",
   "version": "3.8.5"
  }
 },
 "nbformat": 4,
 "nbformat_minor": 4
}
