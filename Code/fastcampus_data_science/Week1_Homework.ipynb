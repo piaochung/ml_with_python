{
 "cells": [
  {
   "cell_type": "markdown",
   "metadata": {},
   "source": [
    "- odd_even 함수를 만들어 주세요. (1점)\n",
    "- 숫자형 값을 두 개 받을 수 있게 해주세요. (1점)\n",
    "- 받은 두 숫자의 제곱을 각각 새로운 변수로 만들어 저장하세요. (1점)\n",
    "- odd_even 함수내에 조건문을 주어 새롭게 만든 변수 2개의 합이 짝수일 경우 '짝수'라는 문자열을, \n",
    "  홀수일 경우 '홀수'라는 문자열을 반환하도록 해주세요. (2점)"
   ]
  },
  {
   "cell_type": "code",
   "execution_count": 1,
   "metadata": {},
   "outputs": [
    {
     "name": "stdout",
     "output_type": "stream",
     "text": [
      "3 5\n",
      "짝수\n"
     ]
    }
   ],
   "source": [
    "def odd_even(a, b):\n",
    "  squaredA = a**2\n",
    "  squaredB = b**2\n",
    "\n",
    "  if (squaredA + squaredB) % 2:\n",
    "    print(\"홀수\")\n",
    "  else:\n",
    "    print(\"짝수\")\n",
    "\n",
    "a, b = map(int,input().split())\n",
    "odd_even(a, b)"
   ]
  },
  {
   "cell_type": "markdown",
   "metadata": {},
   "source": [
    "- 아래의 예시와 같이 name, age의 변수를 포함한 Person 클래스를 만들어주세요.(2점)\n",
    "- 위의 Person클래스를 상속받아 play의 메소드를 추가한 Child 클래스를 만들어주세요(3점)\n",
    "- play 메서드 (play: print('{} is playing.'.format(name)))\n"
   ]
  },
  {
   "cell_type": "code",
   "execution_count": 12,
   "metadata": {},
   "outputs": [],
   "source": [
    "class Person():\n",
    "    def __init__(self, name, age):\n",
    "        self.name = name\n",
    "        self.age = age"
   ]
  },
  {
   "cell_type": "code",
   "execution_count": 13,
   "metadata": {},
   "outputs": [],
   "source": [
    "person = Person('Liam', 8)"
   ]
  },
  {
   "cell_type": "code",
   "execution_count": 14,
   "metadata": {},
   "outputs": [
    {
     "name": "stdout",
     "output_type": "stream",
     "text": [
      "Liam 8\n"
     ]
    }
   ],
   "source": [
    "print(person.name, person.age)"
   ]
  },
  {
   "cell_type": "code",
   "execution_count": 36,
   "metadata": {},
   "outputs": [],
   "source": [
    "class Child(Person):\n",
    "  def play(self):\n",
    "    print('{} is playing.'.format(self.name))"
   ]
  },
  {
   "cell_type": "code",
   "execution_count": 37,
   "metadata": {},
   "outputs": [],
   "source": [
    "child = Child('Olivia', '8')"
   ]
  },
  {
   "cell_type": "code",
   "execution_count": 38,
   "metadata": {},
   "outputs": [
    {
     "name": "stdout",
     "output_type": "stream",
     "text": [
      "Olivia is playing.\n"
     ]
    }
   ],
   "source": [
    "child.play()"
   ]
  }
 ],
 "metadata": {
  "kernelspec": {
   "display_name": "Python 3",
   "language": "python",
   "name": "python3"
  },
  "language_info": {
   "codemirror_mode": {
    "name": "ipython",
    "version": 3
   },
   "file_extension": ".py",
   "mimetype": "text/x-python",
   "name": "python",
   "nbconvert_exporter": "python",
   "pygments_lexer": "ipython3",
   "version": "3.8.5"
  }
 },
 "nbformat": 4,
 "nbformat_minor": 4
}
