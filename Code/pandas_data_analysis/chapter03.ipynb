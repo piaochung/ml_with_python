{
 "cells": [
  {
   "cell_type": "markdown",
   "metadata": {},
   "source": [
    "### Auto-mpg.csv 데이터 속성\n",
    " - mpg = 연비\n",
    " - cylinders = 실린더 수\n",
    " - displacement = 배기량\n",
    " - horesepower = 출력\n",
    " - weight = 차중\n",
    " - acceleration = 가속능력\n",
    " - model_year = 출시년도\n",
    " - origin = 제조국\n",
    " - name = 모델명"
   ]
  },
  {
   "cell_type": "code",
   "execution_count": 17,
   "metadata": {},
   "outputs": [
    {
     "data": {
      "text/html": [
       "<div>\n",
       "<style scoped>\n",
       "    .dataframe tbody tr th:only-of-type {\n",
       "        vertical-align: middle;\n",
       "    }\n",
       "\n",
       "    .dataframe tbody tr th {\n",
       "        vertical-align: top;\n",
       "    }\n",
       "\n",
       "    .dataframe thead th {\n",
       "        text-align: right;\n",
       "    }\n",
       "</style>\n",
       "<table border=\"1\" class=\"dataframe\">\n",
       "  <thead>\n",
       "    <tr style=\"text-align: right;\">\n",
       "      <th></th>\n",
       "      <th>mpg</th>\n",
       "      <th>cylinders</th>\n",
       "      <th>displacement</th>\n",
       "      <th>horesepower</th>\n",
       "      <th>weight</th>\n",
       "      <th>acceleration</th>\n",
       "      <th>model_year</th>\n",
       "      <th>origin</th>\n",
       "      <th>name</th>\n",
       "    </tr>\n",
       "  </thead>\n",
       "  <tbody>\n",
       "    <tr>\n",
       "      <th>388</th>\n",
       "      <td>26.0</td>\n",
       "      <td>4</td>\n",
       "      <td>156.0</td>\n",
       "      <td>92.00</td>\n",
       "      <td>2585.0</td>\n",
       "      <td>14.5</td>\n",
       "      <td>82</td>\n",
       "      <td>1</td>\n",
       "      <td>chrysler lebaron medallion</td>\n",
       "    </tr>\n",
       "    <tr>\n",
       "      <th>389</th>\n",
       "      <td>22.0</td>\n",
       "      <td>6</td>\n",
       "      <td>232.0</td>\n",
       "      <td>112.0</td>\n",
       "      <td>2835.0</td>\n",
       "      <td>14.7</td>\n",
       "      <td>82</td>\n",
       "      <td>1</td>\n",
       "      <td>ford granada l</td>\n",
       "    </tr>\n",
       "    <tr>\n",
       "      <th>390</th>\n",
       "      <td>32.0</td>\n",
       "      <td>4</td>\n",
       "      <td>144.0</td>\n",
       "      <td>96.00</td>\n",
       "      <td>2665.0</td>\n",
       "      <td>13.9</td>\n",
       "      <td>82</td>\n",
       "      <td>3</td>\n",
       "      <td>toyota celica gt</td>\n",
       "    </tr>\n",
       "    <tr>\n",
       "      <th>391</th>\n",
       "      <td>36.0</td>\n",
       "      <td>4</td>\n",
       "      <td>135.0</td>\n",
       "      <td>84.00</td>\n",
       "      <td>2370.0</td>\n",
       "      <td>13.0</td>\n",
       "      <td>82</td>\n",
       "      <td>1</td>\n",
       "      <td>dodge charger 2.2</td>\n",
       "    </tr>\n",
       "    <tr>\n",
       "      <th>392</th>\n",
       "      <td>27.0</td>\n",
       "      <td>4</td>\n",
       "      <td>151.0</td>\n",
       "      <td>90.00</td>\n",
       "      <td>2950.0</td>\n",
       "      <td>17.3</td>\n",
       "      <td>82</td>\n",
       "      <td>1</td>\n",
       "      <td>chevrolet camaro</td>\n",
       "    </tr>\n",
       "    <tr>\n",
       "      <th>393</th>\n",
       "      <td>27.0</td>\n",
       "      <td>4</td>\n",
       "      <td>140.0</td>\n",
       "      <td>86.00</td>\n",
       "      <td>2790.0</td>\n",
       "      <td>15.6</td>\n",
       "      <td>82</td>\n",
       "      <td>1</td>\n",
       "      <td>ford mustang gl</td>\n",
       "    </tr>\n",
       "    <tr>\n",
       "      <th>394</th>\n",
       "      <td>44.0</td>\n",
       "      <td>4</td>\n",
       "      <td>97.0</td>\n",
       "      <td>52.00</td>\n",
       "      <td>2130.0</td>\n",
       "      <td>24.6</td>\n",
       "      <td>82</td>\n",
       "      <td>2</td>\n",
       "      <td>vw pickup</td>\n",
       "    </tr>\n",
       "    <tr>\n",
       "      <th>395</th>\n",
       "      <td>32.0</td>\n",
       "      <td>4</td>\n",
       "      <td>135.0</td>\n",
       "      <td>84.00</td>\n",
       "      <td>2295.0</td>\n",
       "      <td>11.6</td>\n",
       "      <td>82</td>\n",
       "      <td>1</td>\n",
       "      <td>dodge rampage</td>\n",
       "    </tr>\n",
       "    <tr>\n",
       "      <th>396</th>\n",
       "      <td>28.0</td>\n",
       "      <td>4</td>\n",
       "      <td>120.0</td>\n",
       "      <td>79.00</td>\n",
       "      <td>2625.0</td>\n",
       "      <td>18.6</td>\n",
       "      <td>82</td>\n",
       "      <td>1</td>\n",
       "      <td>ford ranger</td>\n",
       "    </tr>\n",
       "    <tr>\n",
       "      <th>397</th>\n",
       "      <td>31.0</td>\n",
       "      <td>4</td>\n",
       "      <td>119.0</td>\n",
       "      <td>82.00</td>\n",
       "      <td>2720.0</td>\n",
       "      <td>19.4</td>\n",
       "      <td>82</td>\n",
       "      <td>1</td>\n",
       "      <td>chevy s-10</td>\n",
       "    </tr>\n",
       "  </tbody>\n",
       "</table>\n",
       "</div>"
      ],
      "text/plain": [
       "      mpg  cylinders  displacement horesepower  weight  acceleration  \\\n",
       "388  26.0          4         156.0       92.00  2585.0          14.5   \n",
       "389  22.0          6         232.0       112.0  2835.0          14.7   \n",
       "390  32.0          4         144.0       96.00  2665.0          13.9   \n",
       "391  36.0          4         135.0       84.00  2370.0          13.0   \n",
       "392  27.0          4         151.0       90.00  2950.0          17.3   \n",
       "393  27.0          4         140.0       86.00  2790.0          15.6   \n",
       "394  44.0          4          97.0       52.00  2130.0          24.6   \n",
       "395  32.0          4         135.0       84.00  2295.0          11.6   \n",
       "396  28.0          4         120.0       79.00  2625.0          18.6   \n",
       "397  31.0          4         119.0       82.00  2720.0          19.4   \n",
       "\n",
       "     model_year  origin                        name  \n",
       "388          82       1  chrysler lebaron medallion  \n",
       "389          82       1              ford granada l  \n",
       "390          82       3            toyota celica gt  \n",
       "391          82       1           dodge charger 2.2  \n",
       "392          82       1            chevrolet camaro  \n",
       "393          82       1             ford mustang gl  \n",
       "394          82       2                   vw pickup  \n",
       "395          82       1               dodge rampage  \n",
       "396          82       1                 ford ranger  \n",
       "397          82       1                  chevy s-10  "
      ]
     },
     "execution_count": 17,
     "metadata": {},
     "output_type": "execute_result"
    }
   ],
   "source": [
    "# ex 3 - 1 데이터 살펴보기\n",
    "import pandas as pd\n",
    "\n",
    "df = pd.read_csv('./data/auto-mpg.csv', header=None)\n",
    "\n",
    "df.columns = ['mpg', 'cylinders', 'displacement', 'horesepower', 'weight', 'acceleration', 'model_year', 'origin', 'name']\n",
    "df.tail(10)"
   ]
  },
  {
   "cell_type": "code",
   "execution_count": 7,
   "metadata": {},
   "outputs": [
    {
     "data": {
      "text/plain": [
       "(398, 9)"
      ]
     },
     "execution_count": 7,
     "metadata": {},
     "output_type": "execute_result"
    }
   ],
   "source": [
    "# 데이터 프레임의 크기 (행, 열)\n",
    "df.shape"
   ]
  },
  {
   "cell_type": "code",
   "execution_count": 8,
   "metadata": {},
   "outputs": [
    {
     "name": "stdout",
     "output_type": "stream",
     "text": [
      "<class 'pandas.core.frame.DataFrame'>\n",
      "RangeIndex: 398 entries, 0 to 397\n",
      "Data columns (total 9 columns):\n",
      " #   Column        Non-Null Count  Dtype  \n",
      "---  ------        --------------  -----  \n",
      " 0   mpg           398 non-null    float64\n",
      " 1   cylinders     398 non-null    int64  \n",
      " 2   displacement  398 non-null    float64\n",
      " 3   horesepower   398 non-null    object \n",
      " 4   weight        398 non-null    float64\n",
      " 5   acceleration  398 non-null    float64\n",
      " 6   model_year    398 non-null    int64  \n",
      " 7   origin        398 non-null    int64  \n",
      " 8   name          398 non-null    object \n",
      "dtypes: float64(4), int64(3), object(2)\n",
      "memory usage: 28.1+ KB\n"
     ]
    }
   ],
   "source": [
    "# 데이터 프레임의 기본 정보 확인\n",
    "df.info()"
   ]
  },
  {
   "cell_type": "markdown",
   "metadata": {},
   "source": [
    "위에서 부터 차례로 클래스 유형, index의 수, column의 수, 각 column의 이름과 데이터 개수 그리고 자료형, 자료형의 개수, 메모리 사용량을 출력한다."
   ]
  },
  {
   "cell_type": "code",
   "execution_count": 23,
   "metadata": {},
   "outputs": [
    {
     "data": {
      "text/html": [
       "<div>\n",
       "<style scoped>\n",
       "    .dataframe tbody tr th:only-of-type {\n",
       "        vertical-align: middle;\n",
       "    }\n",
       "\n",
       "    .dataframe tbody tr th {\n",
       "        vertical-align: top;\n",
       "    }\n",
       "\n",
       "    .dataframe thead th {\n",
       "        text-align: right;\n",
       "    }\n",
       "</style>\n",
       "<table border=\"1\" class=\"dataframe\">\n",
       "  <thead>\n",
       "    <tr style=\"text-align: right;\">\n",
       "      <th></th>\n",
       "      <th>mpg</th>\n",
       "      <th>cylinders</th>\n",
       "      <th>displacement</th>\n",
       "      <th>weight</th>\n",
       "      <th>acceleration</th>\n",
       "      <th>model_year</th>\n",
       "      <th>origin</th>\n",
       "    </tr>\n",
       "  </thead>\n",
       "  <tbody>\n",
       "    <tr>\n",
       "      <th>count</th>\n",
       "      <td>398.000000</td>\n",
       "      <td>398.000000</td>\n",
       "      <td>398.000000</td>\n",
       "      <td>398.000000</td>\n",
       "      <td>398.000000</td>\n",
       "      <td>398.000000</td>\n",
       "      <td>398.000000</td>\n",
       "    </tr>\n",
       "    <tr>\n",
       "      <th>mean</th>\n",
       "      <td>23.514573</td>\n",
       "      <td>5.454774</td>\n",
       "      <td>193.425879</td>\n",
       "      <td>2970.424623</td>\n",
       "      <td>15.568090</td>\n",
       "      <td>76.010050</td>\n",
       "      <td>1.572864</td>\n",
       "    </tr>\n",
       "    <tr>\n",
       "      <th>std</th>\n",
       "      <td>7.815984</td>\n",
       "      <td>1.701004</td>\n",
       "      <td>104.269838</td>\n",
       "      <td>846.841774</td>\n",
       "      <td>2.757689</td>\n",
       "      <td>3.697627</td>\n",
       "      <td>0.802055</td>\n",
       "    </tr>\n",
       "    <tr>\n",
       "      <th>min</th>\n",
       "      <td>9.000000</td>\n",
       "      <td>3.000000</td>\n",
       "      <td>68.000000</td>\n",
       "      <td>1613.000000</td>\n",
       "      <td>8.000000</td>\n",
       "      <td>70.000000</td>\n",
       "      <td>1.000000</td>\n",
       "    </tr>\n",
       "    <tr>\n",
       "      <th>25%</th>\n",
       "      <td>17.500000</td>\n",
       "      <td>4.000000</td>\n",
       "      <td>104.250000</td>\n",
       "      <td>2223.750000</td>\n",
       "      <td>13.825000</td>\n",
       "      <td>73.000000</td>\n",
       "      <td>1.000000</td>\n",
       "    </tr>\n",
       "    <tr>\n",
       "      <th>50%</th>\n",
       "      <td>23.000000</td>\n",
       "      <td>4.000000</td>\n",
       "      <td>148.500000</td>\n",
       "      <td>2803.500000</td>\n",
       "      <td>15.500000</td>\n",
       "      <td>76.000000</td>\n",
       "      <td>1.000000</td>\n",
       "    </tr>\n",
       "    <tr>\n",
       "      <th>75%</th>\n",
       "      <td>29.000000</td>\n",
       "      <td>8.000000</td>\n",
       "      <td>262.000000</td>\n",
       "      <td>3608.000000</td>\n",
       "      <td>17.175000</td>\n",
       "      <td>79.000000</td>\n",
       "      <td>2.000000</td>\n",
       "    </tr>\n",
       "    <tr>\n",
       "      <th>max</th>\n",
       "      <td>46.600000</td>\n",
       "      <td>8.000000</td>\n",
       "      <td>455.000000</td>\n",
       "      <td>5140.000000</td>\n",
       "      <td>24.800000</td>\n",
       "      <td>82.000000</td>\n",
       "      <td>3.000000</td>\n",
       "    </tr>\n",
       "  </tbody>\n",
       "</table>\n",
       "</div>"
      ],
      "text/plain": [
       "              mpg   cylinders  displacement       weight  acceleration  \\\n",
       "count  398.000000  398.000000    398.000000   398.000000    398.000000   \n",
       "mean    23.514573    5.454774    193.425879  2970.424623     15.568090   \n",
       "std      7.815984    1.701004    104.269838   846.841774      2.757689   \n",
       "min      9.000000    3.000000     68.000000  1613.000000      8.000000   \n",
       "25%     17.500000    4.000000    104.250000  2223.750000     13.825000   \n",
       "50%     23.000000    4.000000    148.500000  2803.500000     15.500000   \n",
       "75%     29.000000    8.000000    262.000000  3608.000000     17.175000   \n",
       "max     46.600000    8.000000    455.000000  5140.000000     24.800000   \n",
       "\n",
       "       model_year      origin  \n",
       "count  398.000000  398.000000  \n",
       "mean    76.010050    1.572864  \n",
       "std      3.697627    0.802055  \n",
       "min     70.000000    1.000000  \n",
       "25%     73.000000    1.000000  \n",
       "50%     76.000000    1.000000  \n",
       "75%     79.000000    2.000000  \n",
       "max     82.000000    3.000000  "
      ]
     },
     "execution_count": 23,
     "metadata": {},
     "output_type": "execute_result"
    }
   ],
   "source": [
    "df.describe() # df.describe(include='all') <- 해당 방법을 사용하면 산술 데이터 아닌 데이터도 포함하여 표현된다."
   ]
  },
  {
   "cell_type": "code",
   "execution_count": 19,
   "metadata": {},
   "outputs": [
    {
     "data": {
      "text/plain": [
       "mpg             398\n",
       "cylinders       398\n",
       "displacement    398\n",
       "horesepower     398\n",
       "weight          398\n",
       "acceleration    398\n",
       "model_year      398\n",
       "origin          398\n",
       "name            398\n",
       "dtype: int64"
      ]
     },
     "execution_count": 19,
     "metadata": {},
     "output_type": "execute_result"
    }
   ],
   "source": [
    "# ex 3 - 2 데이터 개수 확인\n",
    "import pandas as pd\n",
    "\n",
    "df = pd.read_csv('./data/auto-mpg.csv', header=None)\n",
    "\n",
    "df.columns = ['mpg', 'cylinders', 'displacement', 'horesepower', 'weight', 'acceleration', 'model_year', 'origin', 'name']\n",
    "df.count()"
   ]
  },
  {
   "cell_type": "code",
   "execution_count": 25,
   "metadata": {},
   "outputs": [
    {
     "data": {
      "text/plain": [
       "1    249\n",
       "3     79\n",
       "2     70\n",
       "Name: origin, dtype: int64"
      ]
     },
     "execution_count": 25,
     "metadata": {},
     "output_type": "execute_result"
    }
   ],
   "source": [
    "# value_counts() 각 열의 고유값의 종류와 개수를 확인하는 함수, 1 = 미국, 2 = 유럽, 3 = 일본\n",
    "unique_value = df['origin'].value_counts()\n",
    "unique_value"
   ]
  },
  {
   "cell_type": "code",
   "execution_count": 26,
   "metadata": {},
   "outputs": [
    {
     "data": {
      "text/plain": [
       "mpg               23.514573\n",
       "cylinders          5.454774\n",
       "displacement     193.425879\n",
       "weight          2970.424623\n",
       "acceleration      15.568090\n",
       "model_year        76.010050\n",
       "origin             1.572864\n",
       "dtype: float64"
      ]
     },
     "execution_count": 26,
     "metadata": {},
     "output_type": "execute_result"
    }
   ],
   "source": [
    "# ex 3 - 3 통계 함수\n",
    "import pandas as pd\n",
    "\n",
    "df = pd.read_csv('./data/auto-mpg.csv', header=None)\n",
    "\n",
    "df.columns = ['mpg', 'cylinders', 'displacement', 'horesepower', 'weight', 'acceleration', 'model_year', 'origin', 'name']\n",
    "# mean() 는 각 column의 평균값을 반환해주는 함수\n",
    "df.mean()"
   ]
  },
  {
   "cell_type": "code",
   "execution_count": 28,
   "metadata": {},
   "outputs": [
    {
     "data": {
      "text/plain": [
       "(23.51, 23.51)"
      ]
     },
     "execution_count": 28,
     "metadata": {},
     "output_type": "execute_result"
    }
   ],
   "source": [
    "round(df.mpg.mean(), 2), round(df['mpg'].mean(), 2)"
   ]
  },
  {
   "cell_type": "code",
   "execution_count": 35,
   "metadata": {},
   "outputs": [
    {
     "data": {
      "text/plain": [
       "mpg         23.514573\n",
       "weight    2970.424623\n",
       "dtype: float64"
      ]
     },
     "execution_count": 35,
     "metadata": {},
     "output_type": "execute_result"
    }
   ],
   "source": [
    "df[['mpg', 'weight']].mean()"
   ]
  },
  {
   "cell_type": "code",
   "execution_count": 38,
   "metadata": {},
   "outputs": [
    {
     "data": {
      "text/plain": [
       "mpg               23.0\n",
       "cylinders          4.0\n",
       "displacement     148.5\n",
       "weight          2803.5\n",
       "acceleration      15.5\n",
       "model_year        76.0\n",
       "origin             1.0\n",
       "dtype: float64"
      ]
     },
     "execution_count": 38,
     "metadata": {},
     "output_type": "execute_result"
    }
   ],
   "source": [
    "# median() 는 각 column의 중간값을 반환해주는 함수\n",
    "df.median()"
   ]
  },
  {
   "cell_type": "code",
   "execution_count": 39,
   "metadata": {},
   "outputs": [
    {
     "data": {
      "text/plain": [
       "mpg                         46.6\n",
       "cylinders                      8\n",
       "displacement                 455\n",
       "horesepower                    ?\n",
       "weight                      5140\n",
       "acceleration                24.8\n",
       "model_year                    82\n",
       "origin                         3\n",
       "name            vw rabbit custom\n",
       "dtype: object"
      ]
     },
     "execution_count": 39,
     "metadata": {},
     "output_type": "execute_result"
    }
   ],
   "source": [
    "# max() 는 각 column의 최대값을 반환해주는 함수\n",
    "df.max()"
   ]
  },
  {
   "cell_type": "code",
   "execution_count": 40,
   "metadata": {},
   "outputs": [
    {
     "data": {
      "text/plain": [
       "mpg                                   9\n",
       "cylinders                             3\n",
       "displacement                         68\n",
       "horesepower                       100.0\n",
       "weight                             1613\n",
       "acceleration                          8\n",
       "model_year                           70\n",
       "origin                                1\n",
       "name            amc ambassador brougham\n",
       "dtype: object"
      ]
     },
     "execution_count": 40,
     "metadata": {},
     "output_type": "execute_result"
    }
   ],
   "source": [
    "# min() 는 각 column의 최대값을 반환해주는 함수\n",
    "df.min()"
   ]
  },
  {
   "cell_type": "code",
   "execution_count": 42,
   "metadata": {},
   "outputs": [
    {
     "data": {
      "text/plain": [
       "mpg               7.82\n",
       "cylinders         1.70\n",
       "displacement    104.27\n",
       "weight          846.84\n",
       "acceleration      2.76\n",
       "model_year        3.70\n",
       "origin            0.80\n",
       "dtype: float64"
      ]
     },
     "execution_count": 42,
     "metadata": {},
     "output_type": "execute_result"
    }
   ],
   "source": [
    "# std() 는 각 column의 표준편차을 반환해주는 함수\n",
    "round(df.std(), 2)"
   ]
  },
  {
   "cell_type": "code",
   "execution_count": 43,
   "metadata": {},
   "outputs": [
    {
     "data": {
      "text/html": [
       "<div>\n",
       "<style scoped>\n",
       "    .dataframe tbody tr th:only-of-type {\n",
       "        vertical-align: middle;\n",
       "    }\n",
       "\n",
       "    .dataframe tbody tr th {\n",
       "        vertical-align: top;\n",
       "    }\n",
       "\n",
       "    .dataframe thead th {\n",
       "        text-align: right;\n",
       "    }\n",
       "</style>\n",
       "<table border=\"1\" class=\"dataframe\">\n",
       "  <thead>\n",
       "    <tr style=\"text-align: right;\">\n",
       "      <th></th>\n",
       "      <th>mpg</th>\n",
       "      <th>cylinders</th>\n",
       "      <th>displacement</th>\n",
       "      <th>weight</th>\n",
       "      <th>acceleration</th>\n",
       "      <th>model_year</th>\n",
       "      <th>origin</th>\n",
       "    </tr>\n",
       "  </thead>\n",
       "  <tbody>\n",
       "    <tr>\n",
       "      <th>mpg</th>\n",
       "      <td>1.00</td>\n",
       "      <td>-0.78</td>\n",
       "      <td>-0.80</td>\n",
       "      <td>-0.83</td>\n",
       "      <td>0.42</td>\n",
       "      <td>0.58</td>\n",
       "      <td>0.56</td>\n",
       "    </tr>\n",
       "    <tr>\n",
       "      <th>cylinders</th>\n",
       "      <td>-0.78</td>\n",
       "      <td>1.00</td>\n",
       "      <td>0.95</td>\n",
       "      <td>0.90</td>\n",
       "      <td>-0.51</td>\n",
       "      <td>-0.35</td>\n",
       "      <td>-0.56</td>\n",
       "    </tr>\n",
       "    <tr>\n",
       "      <th>displacement</th>\n",
       "      <td>-0.80</td>\n",
       "      <td>0.95</td>\n",
       "      <td>1.00</td>\n",
       "      <td>0.93</td>\n",
       "      <td>-0.54</td>\n",
       "      <td>-0.37</td>\n",
       "      <td>-0.61</td>\n",
       "    </tr>\n",
       "    <tr>\n",
       "      <th>weight</th>\n",
       "      <td>-0.83</td>\n",
       "      <td>0.90</td>\n",
       "      <td>0.93</td>\n",
       "      <td>1.00</td>\n",
       "      <td>-0.42</td>\n",
       "      <td>-0.31</td>\n",
       "      <td>-0.58</td>\n",
       "    </tr>\n",
       "    <tr>\n",
       "      <th>acceleration</th>\n",
       "      <td>0.42</td>\n",
       "      <td>-0.51</td>\n",
       "      <td>-0.54</td>\n",
       "      <td>-0.42</td>\n",
       "      <td>1.00</td>\n",
       "      <td>0.29</td>\n",
       "      <td>0.21</td>\n",
       "    </tr>\n",
       "    <tr>\n",
       "      <th>model_year</th>\n",
       "      <td>0.58</td>\n",
       "      <td>-0.35</td>\n",
       "      <td>-0.37</td>\n",
       "      <td>-0.31</td>\n",
       "      <td>0.29</td>\n",
       "      <td>1.00</td>\n",
       "      <td>0.18</td>\n",
       "    </tr>\n",
       "    <tr>\n",
       "      <th>origin</th>\n",
       "      <td>0.56</td>\n",
       "      <td>-0.56</td>\n",
       "      <td>-0.61</td>\n",
       "      <td>-0.58</td>\n",
       "      <td>0.21</td>\n",
       "      <td>0.18</td>\n",
       "      <td>1.00</td>\n",
       "    </tr>\n",
       "  </tbody>\n",
       "</table>\n",
       "</div>"
      ],
      "text/plain": [
       "               mpg  cylinders  displacement  weight  acceleration  model_year  \\\n",
       "mpg           1.00      -0.78         -0.80   -0.83          0.42        0.58   \n",
       "cylinders    -0.78       1.00          0.95    0.90         -0.51       -0.35   \n",
       "displacement -0.80       0.95          1.00    0.93         -0.54       -0.37   \n",
       "weight       -0.83       0.90          0.93    1.00         -0.42       -0.31   \n",
       "acceleration  0.42      -0.51         -0.54   -0.42          1.00        0.29   \n",
       "model_year    0.58      -0.35         -0.37   -0.31          0.29        1.00   \n",
       "origin        0.56      -0.56         -0.61   -0.58          0.21        0.18   \n",
       "\n",
       "              origin  \n",
       "mpg             0.56  \n",
       "cylinders      -0.56  \n",
       "displacement   -0.61  \n",
       "weight         -0.58  \n",
       "acceleration    0.21  \n",
       "model_year      0.18  \n",
       "origin          1.00  "
      ]
     },
     "execution_count": 43,
     "metadata": {},
     "output_type": "execute_result"
    }
   ],
   "source": [
    "# corr() 는 각 column의 상관계수를 반환해주는 함수\n",
    "round(df.corr(), 2)"
   ]
  },
  {
   "cell_type": "code",
   "execution_count": 44,
   "metadata": {},
   "outputs": [
    {
     "data": {
      "text/html": [
       "<div>\n",
       "<style scoped>\n",
       "    .dataframe tbody tr th:only-of-type {\n",
       "        vertical-align: middle;\n",
       "    }\n",
       "\n",
       "    .dataframe tbody tr th {\n",
       "        vertical-align: top;\n",
       "    }\n",
       "\n",
       "    .dataframe thead th {\n",
       "        text-align: right;\n",
       "    }\n",
       "</style>\n",
       "<table border=\"1\" class=\"dataframe\">\n",
       "  <thead>\n",
       "    <tr style=\"text-align: right;\">\n",
       "      <th></th>\n",
       "      <th>mpg</th>\n",
       "      <th>weight</th>\n",
       "    </tr>\n",
       "  </thead>\n",
       "  <tbody>\n",
       "    <tr>\n",
       "      <th>mpg</th>\n",
       "      <td>1.00</td>\n",
       "      <td>-0.83</td>\n",
       "    </tr>\n",
       "    <tr>\n",
       "      <th>weight</th>\n",
       "      <td>-0.83</td>\n",
       "      <td>1.00</td>\n",
       "    </tr>\n",
       "  </tbody>\n",
       "</table>\n",
       "</div>"
      ],
      "text/plain": [
       "         mpg  weight\n",
       "mpg     1.00   -0.83\n",
       "weight -0.83    1.00"
      ]
     },
     "execution_count": 44,
     "metadata": {},
     "output_type": "execute_result"
    }
   ],
   "source": [
    "round(df[['mpg', 'weight']].corr(), 2)"
   ]
  },
  {
   "cell_type": "code",
   "execution_count": 76,
   "metadata": {},
   "outputs": [
    {
     "data": {
      "text/html": [
       "<div>\n",
       "<style scoped>\n",
       "    .dataframe tbody tr th:only-of-type {\n",
       "        vertical-align: middle;\n",
       "    }\n",
       "\n",
       "    .dataframe tbody tr th {\n",
       "        vertical-align: top;\n",
       "    }\n",
       "\n",
       "    .dataframe thead th {\n",
       "        text-align: right;\n",
       "    }\n",
       "</style>\n",
       "<table border=\"1\" class=\"dataframe\">\n",
       "  <thead>\n",
       "    <tr style=\"text-align: right;\">\n",
       "      <th></th>\n",
       "      <th>전력량 (억㎾h)</th>\n",
       "      <th>발전 전력별</th>\n",
       "      <th>1990</th>\n",
       "      <th>1991</th>\n",
       "      <th>1992</th>\n",
       "      <th>1993</th>\n",
       "      <th>1994</th>\n",
       "      <th>1995</th>\n",
       "      <th>1996</th>\n",
       "      <th>1997</th>\n",
       "      <th>...</th>\n",
       "      <th>2007</th>\n",
       "      <th>2008</th>\n",
       "      <th>2009</th>\n",
       "      <th>2010</th>\n",
       "      <th>2011</th>\n",
       "      <th>2012</th>\n",
       "      <th>2013</th>\n",
       "      <th>2014</th>\n",
       "      <th>2015</th>\n",
       "      <th>2016</th>\n",
       "    </tr>\n",
       "  </thead>\n",
       "  <tbody>\n",
       "    <tr>\n",
       "      <th>0</th>\n",
       "      <td>남한</td>\n",
       "      <td>합계</td>\n",
       "      <td>1077</td>\n",
       "      <td>1186</td>\n",
       "      <td>1310</td>\n",
       "      <td>1444</td>\n",
       "      <td>1650</td>\n",
       "      <td>1847</td>\n",
       "      <td>2055</td>\n",
       "      <td>2244</td>\n",
       "      <td>...</td>\n",
       "      <td>4031</td>\n",
       "      <td>4224</td>\n",
       "      <td>4336</td>\n",
       "      <td>4747</td>\n",
       "      <td>4969</td>\n",
       "      <td>5096</td>\n",
       "      <td>5171</td>\n",
       "      <td>5220</td>\n",
       "      <td>5281</td>\n",
       "      <td>5404</td>\n",
       "    </tr>\n",
       "    <tr>\n",
       "      <th>1</th>\n",
       "      <td>NaN</td>\n",
       "      <td>수력</td>\n",
       "      <td>64</td>\n",
       "      <td>51</td>\n",
       "      <td>49</td>\n",
       "      <td>60</td>\n",
       "      <td>41</td>\n",
       "      <td>55</td>\n",
       "      <td>52</td>\n",
       "      <td>54</td>\n",
       "      <td>...</td>\n",
       "      <td>50</td>\n",
       "      <td>56</td>\n",
       "      <td>56</td>\n",
       "      <td>65</td>\n",
       "      <td>78</td>\n",
       "      <td>77</td>\n",
       "      <td>84</td>\n",
       "      <td>78</td>\n",
       "      <td>58</td>\n",
       "      <td>66</td>\n",
       "    </tr>\n",
       "    <tr>\n",
       "      <th>2</th>\n",
       "      <td>NaN</td>\n",
       "      <td>화력</td>\n",
       "      <td>484</td>\n",
       "      <td>573</td>\n",
       "      <td>696</td>\n",
       "      <td>803</td>\n",
       "      <td>1022</td>\n",
       "      <td>1122</td>\n",
       "      <td>1264</td>\n",
       "      <td>1420</td>\n",
       "      <td>...</td>\n",
       "      <td>2551</td>\n",
       "      <td>2658</td>\n",
       "      <td>2802</td>\n",
       "      <td>3196</td>\n",
       "      <td>3343</td>\n",
       "      <td>3430</td>\n",
       "      <td>3581</td>\n",
       "      <td>3427</td>\n",
       "      <td>3402</td>\n",
       "      <td>3523</td>\n",
       "    </tr>\n",
       "    <tr>\n",
       "      <th>3</th>\n",
       "      <td>NaN</td>\n",
       "      <td>원자력</td>\n",
       "      <td>529</td>\n",
       "      <td>563</td>\n",
       "      <td>565</td>\n",
       "      <td>581</td>\n",
       "      <td>587</td>\n",
       "      <td>670</td>\n",
       "      <td>739</td>\n",
       "      <td>771</td>\n",
       "      <td>...</td>\n",
       "      <td>1429</td>\n",
       "      <td>1510</td>\n",
       "      <td>1478</td>\n",
       "      <td>1486</td>\n",
       "      <td>1547</td>\n",
       "      <td>1503</td>\n",
       "      <td>1388</td>\n",
       "      <td>1564</td>\n",
       "      <td>1648</td>\n",
       "      <td>1620</td>\n",
       "    </tr>\n",
       "    <tr>\n",
       "      <th>4</th>\n",
       "      <td>NaN</td>\n",
       "      <td>신재생</td>\n",
       "      <td>-</td>\n",
       "      <td>-</td>\n",
       "      <td>-</td>\n",
       "      <td>-</td>\n",
       "      <td>-</td>\n",
       "      <td>-</td>\n",
       "      <td>-</td>\n",
       "      <td>-</td>\n",
       "      <td>...</td>\n",
       "      <td>-</td>\n",
       "      <td>-</td>\n",
       "      <td>-</td>\n",
       "      <td>-</td>\n",
       "      <td>-</td>\n",
       "      <td>86</td>\n",
       "      <td>118</td>\n",
       "      <td>151</td>\n",
       "      <td>173</td>\n",
       "      <td>195</td>\n",
       "    </tr>\n",
       "    <tr>\n",
       "      <th>5</th>\n",
       "      <td>북한</td>\n",
       "      <td>합계</td>\n",
       "      <td>277</td>\n",
       "      <td>263</td>\n",
       "      <td>247</td>\n",
       "      <td>221</td>\n",
       "      <td>231</td>\n",
       "      <td>230</td>\n",
       "      <td>213</td>\n",
       "      <td>193</td>\n",
       "      <td>...</td>\n",
       "      <td>236</td>\n",
       "      <td>255</td>\n",
       "      <td>235</td>\n",
       "      <td>237</td>\n",
       "      <td>211</td>\n",
       "      <td>215</td>\n",
       "      <td>221</td>\n",
       "      <td>216</td>\n",
       "      <td>190</td>\n",
       "      <td>239</td>\n",
       "    </tr>\n",
       "    <tr>\n",
       "      <th>6</th>\n",
       "      <td>NaN</td>\n",
       "      <td>수력</td>\n",
       "      <td>156</td>\n",
       "      <td>150</td>\n",
       "      <td>142</td>\n",
       "      <td>133</td>\n",
       "      <td>138</td>\n",
       "      <td>142</td>\n",
       "      <td>125</td>\n",
       "      <td>107</td>\n",
       "      <td>...</td>\n",
       "      <td>133</td>\n",
       "      <td>141</td>\n",
       "      <td>125</td>\n",
       "      <td>134</td>\n",
       "      <td>132</td>\n",
       "      <td>135</td>\n",
       "      <td>139</td>\n",
       "      <td>130</td>\n",
       "      <td>100</td>\n",
       "      <td>128</td>\n",
       "    </tr>\n",
       "    <tr>\n",
       "      <th>7</th>\n",
       "      <td>NaN</td>\n",
       "      <td>화력</td>\n",
       "      <td>121</td>\n",
       "      <td>113</td>\n",
       "      <td>105</td>\n",
       "      <td>88</td>\n",
       "      <td>93</td>\n",
       "      <td>88</td>\n",
       "      <td>88</td>\n",
       "      <td>86</td>\n",
       "      <td>...</td>\n",
       "      <td>103</td>\n",
       "      <td>114</td>\n",
       "      <td>110</td>\n",
       "      <td>103</td>\n",
       "      <td>79</td>\n",
       "      <td>80</td>\n",
       "      <td>82</td>\n",
       "      <td>86</td>\n",
       "      <td>90</td>\n",
       "      <td>111</td>\n",
       "    </tr>\n",
       "    <tr>\n",
       "      <th>8</th>\n",
       "      <td>NaN</td>\n",
       "      <td>원자력</td>\n",
       "      <td>-</td>\n",
       "      <td>-</td>\n",
       "      <td>-</td>\n",
       "      <td>-</td>\n",
       "      <td>-</td>\n",
       "      <td>-</td>\n",
       "      <td>-</td>\n",
       "      <td>-</td>\n",
       "      <td>...</td>\n",
       "      <td>-</td>\n",
       "      <td>-</td>\n",
       "      <td>-</td>\n",
       "      <td>-</td>\n",
       "      <td>-</td>\n",
       "      <td>-</td>\n",
       "      <td>-</td>\n",
       "      <td>-</td>\n",
       "      <td>-</td>\n",
       "      <td>-</td>\n",
       "    </tr>\n",
       "  </tbody>\n",
       "</table>\n",
       "<p>9 rows × 29 columns</p>\n",
       "</div>"
      ],
      "text/plain": [
       "  전력량 (억㎾h) 발전 전력별  1990  1991  1992  1993  1994  1995  1996  1997  ...  2007  \\\n",
       "0        남한     합계  1077  1186  1310  1444  1650  1847  2055  2244  ...  4031   \n",
       "1       NaN     수력    64    51    49    60    41    55    52    54  ...    50   \n",
       "2       NaN     화력   484   573   696   803  1022  1122  1264  1420  ...  2551   \n",
       "3       NaN    원자력   529   563   565   581   587   670   739   771  ...  1429   \n",
       "4       NaN    신재생     -     -     -     -     -     -     -     -  ...     -   \n",
       "5        북한     합계   277   263   247   221   231   230   213   193  ...   236   \n",
       "6       NaN     수력   156   150   142   133   138   142   125   107  ...   133   \n",
       "7       NaN     화력   121   113   105    88    93    88    88    86  ...   103   \n",
       "8       NaN    원자력     -     -     -     -     -     -     -     -  ...     -   \n",
       "\n",
       "   2008  2009  2010  2011  2012  2013  2014  2015  2016  \n",
       "0  4224  4336  4747  4969  5096  5171  5220  5281  5404  \n",
       "1    56    56    65    78    77    84    78    58    66  \n",
       "2  2658  2802  3196  3343  3430  3581  3427  3402  3523  \n",
       "3  1510  1478  1486  1547  1503  1388  1564  1648  1620  \n",
       "4     -     -     -     -    86   118   151   173   195  \n",
       "5   255   235   237   211   215   221   216   190   239  \n",
       "6   141   125   134   132   135   139   130   100   128  \n",
       "7   114   110   103    79    80    82    86    90   111  \n",
       "8     -     -     -     -     -     -     -     -     -  \n",
       "\n",
       "[9 rows x 29 columns]"
      ]
     },
     "execution_count": 76,
     "metadata": {},
     "output_type": "execute_result"
    }
   ],
   "source": [
    "# ex 3 - 4 선 그래프 그리기\n",
    "import pandas as pd\n",
    "# 그래프가 보이지 않는 문제를 아래의 코드를 작성하므로써 해결했다. stackoverflow\n",
    "%matplotlib inline\n",
    "\n",
    "df = pd.read_excel('./data/남북한발전전력량.xlsx')\n",
    "df"
   ]
  },
  {
   "cell_type": "code",
   "execution_count": 46,
   "metadata": {},
   "outputs": [
    {
     "data": {
      "text/html": [
       "<div>\n",
       "<style scoped>\n",
       "    .dataframe tbody tr th:only-of-type {\n",
       "        vertical-align: middle;\n",
       "    }\n",
       "\n",
       "    .dataframe tbody tr th {\n",
       "        vertical-align: top;\n",
       "    }\n",
       "\n",
       "    .dataframe thead th {\n",
       "        text-align: right;\n",
       "    }\n",
       "</style>\n",
       "<table border=\"1\" class=\"dataframe\">\n",
       "  <thead>\n",
       "    <tr style=\"text-align: right;\">\n",
       "      <th></th>\n",
       "      <th>1990</th>\n",
       "      <th>1991</th>\n",
       "      <th>1992</th>\n",
       "      <th>1993</th>\n",
       "      <th>1994</th>\n",
       "      <th>1995</th>\n",
       "      <th>1996</th>\n",
       "      <th>1997</th>\n",
       "      <th>1998</th>\n",
       "      <th>1999</th>\n",
       "      <th>...</th>\n",
       "      <th>2007</th>\n",
       "      <th>2008</th>\n",
       "      <th>2009</th>\n",
       "      <th>2010</th>\n",
       "      <th>2011</th>\n",
       "      <th>2012</th>\n",
       "      <th>2013</th>\n",
       "      <th>2014</th>\n",
       "      <th>2015</th>\n",
       "      <th>2016</th>\n",
       "    </tr>\n",
       "  </thead>\n",
       "  <tbody>\n",
       "    <tr>\n",
       "      <th>0</th>\n",
       "      <td>1077</td>\n",
       "      <td>1186</td>\n",
       "      <td>1310</td>\n",
       "      <td>1444</td>\n",
       "      <td>1650</td>\n",
       "      <td>1847</td>\n",
       "      <td>2055</td>\n",
       "      <td>2244</td>\n",
       "      <td>2153</td>\n",
       "      <td>2393</td>\n",
       "      <td>...</td>\n",
       "      <td>4031</td>\n",
       "      <td>4224</td>\n",
       "      <td>4336</td>\n",
       "      <td>4747</td>\n",
       "      <td>4969</td>\n",
       "      <td>5096</td>\n",
       "      <td>5171</td>\n",
       "      <td>5220</td>\n",
       "      <td>5281</td>\n",
       "      <td>5404</td>\n",
       "    </tr>\n",
       "    <tr>\n",
       "      <th>5</th>\n",
       "      <td>277</td>\n",
       "      <td>263</td>\n",
       "      <td>247</td>\n",
       "      <td>221</td>\n",
       "      <td>231</td>\n",
       "      <td>230</td>\n",
       "      <td>213</td>\n",
       "      <td>193</td>\n",
       "      <td>170</td>\n",
       "      <td>186</td>\n",
       "      <td>...</td>\n",
       "      <td>236</td>\n",
       "      <td>255</td>\n",
       "      <td>235</td>\n",
       "      <td>237</td>\n",
       "      <td>211</td>\n",
       "      <td>215</td>\n",
       "      <td>221</td>\n",
       "      <td>216</td>\n",
       "      <td>190</td>\n",
       "      <td>239</td>\n",
       "    </tr>\n",
       "  </tbody>\n",
       "</table>\n",
       "<p>2 rows × 27 columns</p>\n",
       "</div>"
      ],
      "text/plain": [
       "   1990  1991  1992  1993  1994  1995  1996  1997  1998  1999  ...  2007  \\\n",
       "0  1077  1186  1310  1444  1650  1847  2055  2244  2153  2393  ...  4031   \n",
       "5   277   263   247   221   231   230   213   193   170   186  ...   236   \n",
       "\n",
       "   2008  2009  2010  2011  2012  2013  2014  2015  2016  \n",
       "0  4224  4336  4747  4969  5096  5171  5220  5281  5404  \n",
       "5   255   235   237   211   215   221   216   190   239  \n",
       "\n",
       "[2 rows x 27 columns]"
      ]
     },
     "execution_count": 46,
     "metadata": {},
     "output_type": "execute_result"
    }
   ],
   "source": [
    "# 남한, 북한 발전량 합계 데이터 추출\n",
    "df_ns = df.iloc[[0,5], 2:]\n",
    "df_ns.tail()"
   ]
  },
  {
   "cell_type": "code",
   "execution_count": 77,
   "metadata": {},
   "outputs": [
    {
     "data": {
      "text/plain": [
       "<AxesSubplot:>"
      ]
     },
     "execution_count": 77,
     "metadata": {},
     "output_type": "execute_result"
    },
    {
     "data": {
      "image/png": "[encoded data removed]",
      "text/plain": [
       "<Figure size 432x288 with 1 Axes>"
      ]
     },
     "metadata": {
      "needs_background": "light"
     },
     "output_type": "display_data"
    }
   ],
   "source": [
    "df_ns.plot()"
   ]
  },
  {
   "cell_type": "code",
   "execution_count": 55,
   "metadata": {},
   "outputs": [
    {
     "data": {
      "text/plain": [
       "dtype('int64')"
      ]
     },
     "execution_count": 55,
     "metadata": {},
     "output_type": "execute_result"
    }
   ],
   "source": [
    "df_ns.index = ['South', 'North']\n",
    "df_ns.columns = df_ns.columns.map(int)"
   ]
  },
  {
   "cell_type": "code",
   "execution_count": 78,
   "metadata": {},
   "outputs": [
    {
     "data": {
      "text/plain": [
       "<AxesSubplot:>"
      ]
     },
     "execution_count": 78,
     "metadata": {},
     "output_type": "execute_result"
    },
    {
     "data": {
      "image/png": "[encoded data removed]",
      "text/plain": [
       "<Figure size 432x288 with 1 Axes>"
      ]
     },
     "metadata": {
      "needs_background": "light"
     },
     "output_type": "display_data"
    }
   ],
   "source": [
    "df_ns.plot() # 제대로 나오지 않음"
   ]
  },
  {
   "cell_type": "code",
   "execution_count": 50,
   "metadata": {},
   "outputs": [
    {
     "data": {
      "text/html": [
       "<div>\n",
       "<style scoped>\n",
       "    .dataframe tbody tr th:only-of-type {\n",
       "        vertical-align: middle;\n",
       "    }\n",
       "\n",
       "    .dataframe tbody tr th {\n",
       "        vertical-align: top;\n",
       "    }\n",
       "\n",
       "    .dataframe thead th {\n",
       "        text-align: right;\n",
       "    }\n",
       "</style>\n",
       "<table border=\"1\" class=\"dataframe\">\n",
       "  <thead>\n",
       "    <tr style=\"text-align: right;\">\n",
       "      <th></th>\n",
       "      <th>South</th>\n",
       "      <th>North</th>\n",
       "    </tr>\n",
       "  </thead>\n",
       "  <tbody>\n",
       "    <tr>\n",
       "      <th>2012</th>\n",
       "      <td>5096</td>\n",
       "      <td>215</td>\n",
       "    </tr>\n",
       "    <tr>\n",
       "      <th>2013</th>\n",
       "      <td>5171</td>\n",
       "      <td>221</td>\n",
       "    </tr>\n",
       "    <tr>\n",
       "      <th>2014</th>\n",
       "      <td>5220</td>\n",
       "      <td>216</td>\n",
       "    </tr>\n",
       "    <tr>\n",
       "      <th>2015</th>\n",
       "      <td>5281</td>\n",
       "      <td>190</td>\n",
       "    </tr>\n",
       "    <tr>\n",
       "      <th>2016</th>\n",
       "      <td>5404</td>\n",
       "      <td>239</td>\n",
       "    </tr>\n",
       "  </tbody>\n",
       "</table>\n",
       "</div>"
      ],
      "text/plain": [
       "     South North\n",
       "2012  5096   215\n",
       "2013  5171   221\n",
       "2014  5220   216\n",
       "2015  5281   190\n",
       "2016  5404   239"
      ]
     },
     "execution_count": 50,
     "metadata": {},
     "output_type": "execute_result"
    }
   ],
   "source": [
    "tdf_ns = df_ns.T\n",
    "tdf_ns.tail()"
   ]
  },
  {
   "cell_type": "code",
   "execution_count": 79,
   "metadata": {},
   "outputs": [
    {
     "data": {
      "text/plain": [
       "<AxesSubplot:>"
      ]
     },
     "execution_count": 79,
     "metadata": {},
     "output_type": "execute_result"
    },
    {
     "data": {
      "image/png": "[encoded data removed]",
      "text/plain": [
       "<Figure size 432x288 with 1 Axes>"
      ]
     },
     "metadata": {
      "needs_background": "light"
     },
     "output_type": "display_data"
    }
   ],
   "source": [
    "tdf_ns.plot()"
   ]
  },
  {
   "cell_type": "code",
   "execution_count": 80,
   "metadata": {},
   "outputs": [
    {
     "data": {
      "text/plain": [
       "<AxesSubplot:>"
      ]
     },
     "execution_count": 80,
     "metadata": {},
     "output_type": "execute_result"
    },
    {
     "data": {
      "image/png": "[encoded data removed]",
      "text/plain": [
       "<Figure size 432x288 with 1 Axes>"
      ]
     },
     "metadata": {
      "needs_background": "light"
     },
     "output_type": "display_data"
    }
   ],
   "source": [
    "# ex 3 - 5 막대 그래프\n",
    "import pandas as pd\n",
    "\n",
    "df = pd.read_excel('./data/남북한발전전력량.xlsx')\n",
    "\n",
    "# 남한, 북한 발전량 합계 데이터 추출\n",
    "df_ns = df.iloc[[0,5], 2:]\n",
    "df_ns.index = ['South', 'North']\n",
    "df_ns.columns = df_ns.columns.map(int)\n",
    "\n",
    "tdf_ns = df_ns.T\n",
    "tdf_ns.plot(kind='bar')"
   ]
  },
  {
   "cell_type": "code",
   "execution_count": 81,
   "metadata": {},
   "outputs": [
    {
     "data": {
      "text/plain": [
       "<AxesSubplot:ylabel='Frequency'>"
      ]
     },
     "execution_count": 81,
     "metadata": {},
     "output_type": "execute_result"
    },
    {
     "data": {
      "image/png": "[encoded data removed]",
      "text/plain": [
       "<Figure size 432x288 with 1 Axes>"
      ]
     },
     "metadata": {
      "needs_background": "light"
     },
     "output_type": "display_data"
    }
   ],
   "source": [
    "# ex 3 - 6 히스토그램 그래프\n",
    "import pandas as pd\n",
    "\n",
    "df = pd.read_excel('./data/남북한발전전력량.xlsx')\n",
    "\n",
    "# 남한, 북한 발전량 합계 데이터 추출\n",
    "df_ns = df.iloc[[0,5], 2:]\n",
    "df_ns.index = ['South', 'North']\n",
    "df_ns.columns = df_ns.columns.map(int)\n",
    "\n",
    "tdf_ns = df_ns.T\n",
    "tdf_ns.plot(kind='hist')"
   ]
  },
  {
   "cell_type": "code",
   "execution_count": 82,
   "metadata": {},
   "outputs": [
    {
     "data": {
      "text/html": [
       "<div>\n",
       "<style scoped>\n",
       "    .dataframe tbody tr th:only-of-type {\n",
       "        vertical-align: middle;\n",
       "    }\n",
       "\n",
       "    .dataframe tbody tr th {\n",
       "        vertical-align: top;\n",
       "    }\n",
       "\n",
       "    .dataframe thead th {\n",
       "        text-align: right;\n",
       "    }\n",
       "</style>\n",
       "<table border=\"1\" class=\"dataframe\">\n",
       "  <thead>\n",
       "    <tr style=\"text-align: right;\">\n",
       "      <th></th>\n",
       "      <th>mpg</th>\n",
       "      <th>cylinders</th>\n",
       "      <th>displacement</th>\n",
       "      <th>horesepower</th>\n",
       "      <th>weight</th>\n",
       "      <th>acceleration</th>\n",
       "      <th>model_year</th>\n",
       "      <th>origin</th>\n",
       "      <th>name</th>\n",
       "    </tr>\n",
       "  </thead>\n",
       "  <tbody>\n",
       "    <tr>\n",
       "      <th>393</th>\n",
       "      <td>27.0</td>\n",
       "      <td>4</td>\n",
       "      <td>140.0</td>\n",
       "      <td>86.00</td>\n",
       "      <td>2790.0</td>\n",
       "      <td>15.6</td>\n",
       "      <td>82</td>\n",
       "      <td>1</td>\n",
       "      <td>ford mustang gl</td>\n",
       "    </tr>\n",
       "    <tr>\n",
       "      <th>394</th>\n",
       "      <td>44.0</td>\n",
       "      <td>4</td>\n",
       "      <td>97.0</td>\n",
       "      <td>52.00</td>\n",
       "      <td>2130.0</td>\n",
       "      <td>24.6</td>\n",
       "      <td>82</td>\n",
       "      <td>2</td>\n",
       "      <td>vw pickup</td>\n",
       "    </tr>\n",
       "    <tr>\n",
       "      <th>395</th>\n",
       "      <td>32.0</td>\n",
       "      <td>4</td>\n",
       "      <td>135.0</td>\n",
       "      <td>84.00</td>\n",
       "      <td>2295.0</td>\n",
       "      <td>11.6</td>\n",
       "      <td>82</td>\n",
       "      <td>1</td>\n",
       "      <td>dodge rampage</td>\n",
       "    </tr>\n",
       "    <tr>\n",
       "      <th>396</th>\n",
       "      <td>28.0</td>\n",
       "      <td>4</td>\n",
       "      <td>120.0</td>\n",
       "      <td>79.00</td>\n",
       "      <td>2625.0</td>\n",
       "      <td>18.6</td>\n",
       "      <td>82</td>\n",
       "      <td>1</td>\n",
       "      <td>ford ranger</td>\n",
       "    </tr>\n",
       "    <tr>\n",
       "      <th>397</th>\n",
       "      <td>31.0</td>\n",
       "      <td>4</td>\n",
       "      <td>119.0</td>\n",
       "      <td>82.00</td>\n",
       "      <td>2720.0</td>\n",
       "      <td>19.4</td>\n",
       "      <td>82</td>\n",
       "      <td>1</td>\n",
       "      <td>chevy s-10</td>\n",
       "    </tr>\n",
       "  </tbody>\n",
       "</table>\n",
       "</div>"
      ],
      "text/plain": [
       "      mpg  cylinders  displacement horesepower  weight  acceleration  \\\n",
       "393  27.0          4         140.0       86.00  2790.0          15.6   \n",
       "394  44.0          4          97.0       52.00  2130.0          24.6   \n",
       "395  32.0          4         135.0       84.00  2295.0          11.6   \n",
       "396  28.0          4         120.0       79.00  2625.0          18.6   \n",
       "397  31.0          4         119.0       82.00  2720.0          19.4   \n",
       "\n",
       "     model_year  origin             name  \n",
       "393          82       1  ford mustang gl  \n",
       "394          82       2        vw pickup  \n",
       "395          82       1    dodge rampage  \n",
       "396          82       1      ford ranger  \n",
       "397          82       1       chevy s-10  "
      ]
     },
     "execution_count": 82,
     "metadata": {},
     "output_type": "execute_result"
    }
   ],
   "source": [
    "# ex 3 - 7 산점도\n",
    "import pandas as pd\n",
    "\n",
    "df = pd.read_csv('./data/auto-mpg.csv', header=None)\n",
    "df.columns = ['mpg', 'cylinders', 'displacement', 'horesepower', 'weight', 'acceleration', 'model_year', 'origin', 'name']\n",
    "df.tail()"
   ]
  },
  {
   "cell_type": "code",
   "execution_count": 83,
   "metadata": {},
   "outputs": [
    {
     "name": "stderr",
     "output_type": "stream",
     "text": [
      "*c* argument looks like a single numeric RGB or RGBA sequence, which should be avoided as value-mapping will have precedence in case its length matches with *x* & *y*.  Please use the *color* keyword-argument or provide a 2-D array with a single row if you intend to specify the same RGB or RGBA value for all points.\n"
     ]
    },
    {
     "data": {
      "text/plain": [
       "<AxesSubplot:xlabel='weight', ylabel='mpg'>"
      ]
     },
     "execution_count": 83,
     "metadata": {},
     "output_type": "execute_result"
    },
    {
     "data": {
      "image/png": "[encoded data removed]",
      "text/plain": [
       "<Figure size 432x288 with 1 Axes>"
      ]
     },
     "metadata": {
      "needs_background": "light"
     },
     "output_type": "display_data"
    }
   ],
   "source": [
    "df.plot(x='weight', y='mpg', kind='scatter')"
   ]
  },
  {
   "cell_type": "code",
   "execution_count": 84,
   "metadata": {},
   "outputs": [
    {
     "data": {
      "text/plain": [
       "<AxesSubplot:>"
      ]
     },
     "execution_count": 84,
     "metadata": {},
     "output_type": "execute_result"
    },
    {
     "data": {
      "image/png": "[encoded data removed]",
      "text/plain": [
       "<Figure size 432x288 with 1 Axes>"
      ]
     },
     "metadata": {
      "needs_background": "light"
     },
     "output_type": "display_data"
    }
   ],
   "source": [
    "# ex 3 - 8 박스 플롯\n",
    "import pandas as pd\n",
    "\n",
    "df = pd.read_csv('./data/auto-mpg.csv', header=None)\n",
    "df.columns = ['mpg', 'cylinders', 'displacement', 'horesepower', 'weight', 'acceleration', 'model_year', 'origin', 'name']\n",
    "df[['mpg', 'cylinders']].plot(kind='box')"
   ]
  }
 ],
 "metadata": {
  "kernelspec": {
   "display_name": "Python 3",
   "language": "python",
   "name": "python3"
  },
  "language_info": {
   "codemirror_mode": {
    "name": "ipython",
    "version": 3
   },
   "file_extension": ".py",
   "mimetype": "text/x-python",
   "name": "python",
   "nbconvert_exporter": "python",
   "pygments_lexer": "ipython3",
   "version": "3.8.5"
  }
 },
 "nbformat": 4,
 "nbformat_minor": 4
}
