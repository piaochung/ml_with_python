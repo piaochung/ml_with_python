{
 "cells": [
  {
   "cell_type": "code",
   "execution_count": 4,
   "metadata": {},
   "outputs": [
    {
     "name": "stdout",
     "output_type": "stream",
     "text": [
      "   c0  c1  c2  c3\n",
      "0   0   1   4   7\n",
      "1   1   2   5   8\n",
      "2   2   3   6   9\n",
      "\n",
      "\n",
      "    0   1   2   3\n",
      "0  c0  c1  c2  c3\n",
      "1   0   1   4   7\n",
      "2   1   2   5   8\n",
      "3   2   3   6   9\n",
      "\n",
      "\n",
      "   c0  c1  c2  c3\n",
      "0   0   1   4   7\n",
      "1   1   2   5   8\n",
      "2   2   3   6   9\n",
      "\n",
      "\n",
      "    c1  c2  c3\n",
      "c0            \n",
      "0    1   4   7\n",
      "1    2   5   8\n",
      "2    3   6   9\n",
      "\n",
      "\n"
     ]
    }
   ],
   "source": [
    "# ex 2- 1 CSV 파일 읽기\n",
    "\n",
    "import pandas as pd\n",
    "\n",
    "file_path = './data/read_csv_sample.csv'\n",
    "\n",
    "df1 = pd.read_csv(file_path)\n",
    "print(df1)\n",
    "print('\\n')\n",
    "\n",
    "df2 = pd.read_csv(file_path, header=None)\n",
    "print(df2)\n",
    "print('\\n')\n",
    "\n",
    "df3 = pd.read_csv(file_path, index_col=None)\n",
    "print(df3)\n",
    "print('\\n')\n",
    "\n",
    "df4 = pd.read_csv(file_path, index_col='c0')\n",
    "print(df4)\n",
    "print('\\n')"
   ]
  },
  {
   "cell_type": "code",
   "execution_count": 9,
   "metadata": {},
   "outputs": [
    {
     "name": "stdout",
     "output_type": "stream",
     "text": [
      "  전력량 (억㎾h) 발전 전력별  1990  1991  1992  1993  1994  1995  1996  1997  ...  2007  \\\n",
      "0        남한     합계  1077  1186  1310  1444  1650  1847  2055  2244  ...  4031   \n",
      "1       NaN     수력    64    51    49    60    41    55    52    54  ...    50   \n",
      "2       NaN     화력   484   573   696   803  1022  1122  1264  1420  ...  2551   \n",
      "\n",
      "   2008  2009  2010  2011  2012  2013  2014  2015  2016  \n",
      "0  4224  4336  4747  4969  5096  5171  5220  5281  5404  \n",
      "1    56    56    65    78    77    84    78    58    66  \n",
      "2  2658  2802  3196  3343  3430  3581  3427  3402  3523  \n",
      "\n",
      "[3 rows x 29 columns]\n",
      "\n",
      "\n",
      "          0       1     2     3     4     5     6     7     8     9   ...  \\\n",
      "0  전력량 (억㎾h)  발전 전력별  1990  1991  1992  1993  1994  1995  1996  1997  ...   \n",
      "1         남한      합계  1077  1186  1310  1444  1650  1847  2055  2244  ...   \n",
      "2        NaN      수력    64    51    49    60    41    55    52    54  ...   \n",
      "\n",
      "     19    20    21    22    23    24    25    26    27    28  \n",
      "0  2007  2008  2009  2010  2011  2012  2013  2014  2015  2016  \n",
      "1  4031  4224  4336  4747  4969  5096  5171  5220  5281  5404  \n",
      "2    50    56    56    65    78    77    84    78    58    66  \n",
      "\n",
      "[3 rows x 29 columns]\n"
     ]
    }
   ],
   "source": [
    "# ex 2 - 2 Excel 파일 읽기\n",
    "import pandas as pd\n",
    "\n",
    "df1 = pd.read_excel('./data/남북한발전전력량.xlsx')\n",
    "df2 = pd.read_excel('./data/남북한발전전력량.xlsx', header=None)\n",
    "\n",
    "print(df1.head(3))\n",
    "print('\\n')\n",
    "print(df2.head(3))"
   ]
  },
  {
   "cell_type": "code",
   "execution_count": 10,
   "metadata": {},
   "outputs": [
    {
     "name": "stdout",
     "output_type": "stream",
     "text": [
      "           name  year        developer opensource\n",
      "pandas           2008    Wes Mckinneye       True\n",
      "NumPy            2006  Travis Oliphant       True\n",
      "matplotlib       2003   John D. Hunter       True\n",
      "\n",
      "\n",
      "Index(['pandas', 'NumPy', 'matplotlib'], dtype='object')\n"
     ]
    }
   ],
   "source": [
    "# ex 2 - 3 JSON 파일 읽기\n",
    "\n",
    "import pandas as pd\n",
    "\n",
    "df = pd.read_json('./data/read_json_sample.json')\n",
    "print(df)\n",
    "print('\\n')\n",
    "print(df.index)"
   ]
  },
  {
   "cell_type": "code",
   "execution_count": 13,
   "metadata": {},
   "outputs": [
    {
     "name": "stdout",
     "output_type": "stream",
     "text": [
      "2\n",
      "\n",
      "\n",
      "tables{0}\n",
      "   Unnamed: 0  c0  c1  c2  c3\n",
      "0           0   0   1   4   7\n",
      "1           1   1   2   5   8\n",
      "2           2   2   3   6   9\n",
      "\n",
      "\n",
      "tables{1}\n",
      "         name  year        developer  opensource\n",
      "0       NumPy  2006  Travis Oliphant        True\n",
      "1  matplotlib  2003   John D. Hunter        True\n",
      "2      pandas  2008    Wes Mckinneye        True\n",
      "\n",
      "\n",
      "            year        developer  opensource\n",
      "name                                         \n",
      "NumPy       2006  Travis Oliphant        True\n",
      "matplotlib  2003   John D. Hunter        True\n",
      "pandas      2008    Wes Mckinneye        True\n"
     ]
    }
   ],
   "source": [
    "# 2 - 4 웹에서 표 정보 읽기\n",
    "import pandas as pd\n",
    "\n",
    "url = './data/sample.html'\n",
    "\n",
    "tables = pd.read_html(url)\n",
    "\n",
    "print(len(tables))\n",
    "print('\\n')\n",
    "\n",
    "for i in range(len(tables)):\n",
    "    print('tables{%s}' % i)\n",
    "    print(tables[i])\n",
    "    print('\\n')\n",
    "    \n",
    "df = tables[1]\n",
    "\n",
    "df.set_index(['name'], inplace=True)\n",
    "print(df)"
   ]
  },
  {
   "cell_type": "code",
   "execution_count": 18,
   "metadata": {},
   "outputs": [
    {
     "name": "stdout",
     "output_type": "stream",
     "text": [
      "{'DIA': ['NYSE Arca', 'DIAMONDS Trust, Series 1'], 'RSP': ['NYSE Arca', 'Guggenheim S&P 500 Equal Weight'], 'IOO': ['NYSE Arca', 'iShares S&P Global 100 Index'], 'IVV': ['NYSE Arca', 'iShares S&P 500 Index'], 'SPY': ['NYSE Arca', 'SPDR S&P 500'], 'VOO': ['NYSE Arca', 'Vanguard S&P 500'], 'IWM': ['NYSE Arca', 'iShares Russell 2000 Index'], 'OEF': ['NYSE Arca', 'iShares S&P 100 Index'], 'CVY': ['NYSE Arca', 'Guggenheim Multi-Asset Income'], 'RPG': ['NYSE Arca', 'Guggenheim S&P 500 Pure Growth ETF'], 'RPV': ['NYSE Arca', 'Guggenheim S&P 500 Pure Value ETF'], 'IWB': ['NYSE Arca', 'iShares Russell 1000 Index'], 'PKW': ['NYSE Arca', 'PowerShares Buyback Achievers'], 'PRF': ['NYSE Arca', 'PowerShares FTSE RAFI US 1000'], 'SPLV': ['NYSE Arca', 'PowerShares S&P 500 Low Volatility'], 'SCHX': ['NYSE Arca', 'Schwab US Large-Cap ETF'], 'SCHD': ['NYSE Arca', 'Schwab US Dividend Equity ETF'], 'FNDX': ['NYSE Arca', 'Schwab Fundamental U.S. Large Company Index ETF'], 'SDY': ['NYSE Arca', 'SPDR S&P Dividend ETF'], 'VV': ['NYSE Arca', 'Vanguard Large-Cap'], 'MGC': ['NYSE Arca', 'Vanguard Mega-Cap 300'], 'VONE': ['NYSE Arca', 'Vanguard Russell 1000'], 'VIG': ['NYSE Arca', 'Vanguard Dividend Appreciation'], 'VYM': ['NYSE Arca', 'Vanguard High Dividend Yield'], 'DTN': ['NYSE Arca', 'WisdomTree Dividend ex-Financials'], 'DLN': ['NYSE Arca', 'WisdomTree LargeCap Dividend'], 'MDY': ['NYSE Arca', 'MidCap SPDR'], 'DVY': ['NYSE Arca', 'iShares Select Dividend'], 'IWR': ['NYSE Arca', 'iShares Russell Midcap Index'], 'IJH': ['NYSE Arca', 'iShares S&P MidCap 400 Index'], 'PDP': ['NYSE Arca', 'PowerShares DWA Mom Port'], 'SCHM': ['NYSE Arca', 'Schwab US Mid-Cap'], 'IVOO': ['NYSE Arca', 'Vanguard S&P Mid-Cap 400'], 'VO': ['NYSE Arca', 'Vanguard Mid-Cap'], 'VXF': ['NYSE Arca', 'Vanguard Extended Market'], 'DON': ['NYSE Arca', 'WisdomTree MidCap Dividend ETF'], 'IWC': ['NYSE Arca', 'iShares Micro-Cap'], 'IJR': ['NYSE Arca', 'iShares S&P SmallCap 600 Index'], 'SCHA': ['NYSE Arca', 'Schwab US Small-Cap ETF'], 'FNDA': ['NYSE Arca', 'Schwab Fundamental U.S. Small Company Index ETF'], 'VIOO': ['NYSE Arca', 'Vanguard S&P Small-Cap 600'], 'VB': ['NYSE Arca', 'Vanguard Small-Cap'], 'VTWO': ['NYSE Arca', 'Vanguard Russell 2000'], 'EEB': ['NYSE Arca', 'Claymore/BNY BRIC'], 'ECON': ['NYSE Arca', 'EGShares Emerging Markets Consumer'], 'IDV': ['NYSE Arca', 'iShares International Select Div'], 'BKF': ['NYSE Arca', 'iShares MSCI BRIC Index'], 'EFA': ['NYSE Arca', 'iShares MSCI EAFE Index'], 'SCZ': ['NYSE Arca', 'iShares MSCI EAFE Small-Cap'], 'EEM': ['NYSE Arca', 'iShares MSCI Emerging Markets Index'], 'PID': ['NYSE Arca', 'PowerShares Intl Dividend Achievers'], 'SCHC': ['NYSE Arca', 'Schwab International Small-Cap Equity'], 'SCHE': ['NYSE Arca', 'Schwab Emerging Markets Equity ETF'], 'SCHF': ['NYSE Arca', 'Schwab International Equity ETF'], 'FNDF': ['NYSE Arca', 'Schwab Fundamental International Large Company Index ETF'], 'FNDC': ['NYSE Arca', 'Schwab Fundamental International Small Company Index ETF'], 'FNDE': ['NYSE Arca', 'Schwab Fundamental Emerging Markets Large Company Index ETF'], 'DWX': ['NYSE Arca', 'SPDR S&P International Dividend'], 'VEA': ['NYSE Arca', 'Vanguard MSCI EAFE'], 'VWO': ['NYSE Arca', 'Vanguard MSCI Emerging Markets'], 'VXUS': ['NYSE Arca', 'Vanguard Total International Stock'], 'VEU': ['NYSE Arca', 'Vanguard FTSE All-World ex-US'], 'VSS': ['NYSE Arca', 'Vanguard FTSE All-World ex-US Small-Cap'], 'DEM': ['NYSE Arca', 'WisdomTree Emerging Markets Equity Inc'], 'DGS': ['NYSE Arca', 'WisdomTree Emerging Mkts SmallCap Div'], 'EZU': ['NYSE Arca', 'iShares MSCI EMU Index'], 'EPP': ['NYSE Arca', 'iShares MSCI Pacific ex-Japan'], 'IEV': ['NYSE Arca', 'iShares S&P Europe 350 Index'], 'ILF': ['NYSE Arca', 'iShares S&P Latin America 40 Index'], 'FEZ': ['NYSE Arca', 'SPDR EURO STOXX 50'], 'VGK': ['NYSE Arca', 'Vanguard MSCI Europe'], 'VPL': ['NYSE Arca', 'Vanguard MSCI Pacific'], 'HEDJ': ['NYSE Arca', 'WisdomTree Europe Hedged Equity ETF'], 'DFE': ['NYSE Arca', 'WisdomTree Europe SmallCap Dividend'], 'AND': ['NYSE Arca', 'Global X FTSE Andean 40 ETF'], 'GXF': ['NYSE Arca', 'Global X FTSE Nordic Region ETF'], 'EWA': ['NYSE Arca', 'iShares MSCI Australia Index'], 'EWC': ['NYSE Arca', 'iShares MSCI Canada Index'], 'EWG': ['NYSE Arca', 'iShares MSCI German Index'], 'EIS': ['NYSE Arca', 'iShares MSCI Israel ETF'], 'EWI': ['NYSE Arca', 'iShares MSCI Italy Capped'], 'EWJ': ['NYSE Arca', 'iShares MSCI Japan Index'], 'EWD': ['NYSE Arca', 'iShares MSCI Sweden Index'], 'EWL': ['NYSE Arca', 'iShares MSCI Switzerland Capped'], 'EWP': ['NYSE Arca', 'iShares MSCI Spain Capped'], 'EWU': ['NYSE Arca', 'iShares MSCI United Kingdom Index'], 'DXJ': ['NYSE Arca', 'WisdomTree Japan Hedged Equity'], 'NORW': ['NYSE Arca', 'Global X FTSE Norway 30 ETF'], 'INDF': ['NYSE Arca', 'Nifty India Financials ETF'], 'EWZ': ['NYSE Arca', 'iShares MSCI Brazil Index'], 'FXI': ['NYSE Arca', 'iShares FTSE/Xinhua China 25 Index'], 'EWH': ['NYSE Arca', 'iShares MSCI Hong Kong Index'], 'EWW': ['NYSE Arca', 'iShares MSCI Mexico Index'], 'EPHE': ['NYSE Arca', 'iShares MSCI Philippines Index'], 'RSX': ['NYSE Arca', 'Market Vectors Russia ETF'], 'EWS': ['NYSE Arca', 'iShares MSCI Singapore Index'], 'EWM': ['NYSE Arca', 'iShares MSCI Malaysia Index'], 'EWY': ['NYSE Arca', 'iShares MSCI South Korea Index'], 'EWT': ['NYSE Arca', 'iShares MSCI Taiwan Index'], 'EPI': ['NYSE Arca', 'WisdomTree India Earnings ETF'], 'ARGT': ['NYSE Arca', 'Global X FTSE Argentina 20 ETF'], 'BRAF': ['NYSE Arca', 'Global X Brazil Financials ETF'], 'BRAQ': ['NYSE Arca', 'Global X Brazil Consumer ETF'], 'BRAZ': ['NYSE Arca', 'Global X Brazil Mid Cap ETF'], 'GXG': ['NYSE Arca', 'Global X FTSE Colombia 20 ETF'], 'XLY': ['NYSE Arca', 'Consumer Discretionary Select Sector SPDR'], 'IYC': ['NYSE Arca', 'iShares Dow Jones US Consumer Services'], 'ITB': ['NYSE Arca', 'iShares US Home Construction'], 'XHB': ['NYSE Arca', 'SPDR S&P Homebuilders ETF'], 'VCR': ['NYSE Arca', 'Vanguard Consumer Discretionary'], 'XLP': ['NYSE Arca', 'Consumer Staples Select Sector SPDR'], 'IYK': ['NYSE Arca', 'iShares Dow Jones US Consumer Goods'], 'VDC': ['NYSE Arca', 'Vanguard Consumer Staples'], 'AMLP': ['NYSE Arca', 'ALPS Alerian MLP ETF'], 'XLE': ['NYSE Arca', 'Energy Select Sector SPDR'], 'IYE': ['NYSE Arca', 'iShares Dow Jones US Energy'], 'IGE': ['NYSE Arca', 'iShares North American Natural Resources'], 'OIH': ['NYSE Arca', 'Market Vectors Oil Services ETF'], 'XOP': ['NYSE Arca', 'SPDR S&P Oil & Gas Explor & Prod ETF'], 'VDE': ['NYSE Arca', 'Vanguard Energy'], 'ESPO': ['NYSE Arca', 'VanEck Vectors Video Gaming and eSports ETF'], 'XLF': ['NYSE Arca', 'Financial Select Sector SPDR'], 'IYF': ['NYSE Arca', 'iShares Dow Jones US Financial'], 'KBE': ['NYSE Arca', 'SPDR S&P Bank ETF'], 'KRE': ['NYSE Arca', 'SPDR S&P Regional Banking ETF'], 'VFH': ['NYSE Arca', 'Vanguard Financials'], 'FXH': ['NYSE Arca', 'First Trust Health Care AlphaDEX'], 'FBT': ['NYSE Arca', 'First Trust NYSE Arca Biotech Index'], 'XLV': ['NYSE Arca', 'Health Care Select Sector SPDR'], 'IYH': ['NYSE Arca', 'iShares Dow Jones US Health Care'], 'PJP': ['NYSE Arca', 'PowerShares Dynamic Pharmaceuticals'], 'XBI': ['NYSE Arca', 'SPDR S&P Biotech ETF'], 'VHT': ['NYSE Arca', 'Vanguard Health Care'], 'XLI': ['NYSE Arca', 'Industrial Select Sector SPDR'], 'IYJ': ['NYSE Arca', 'iShares Dow Jones US Industrial'], 'VIS': ['NYSE Arca', 'Vanguard Industrials'], 'XLB': ['NYSE Arca', 'Materials Select Sector SPDR'], 'IYM': ['NYSE Arca', 'iShares Dow Jones US Materials'], 'GDX': ['NYSE Arca', 'Market Vectors Gold Miners ETF'], 'GDXJ': ['NYSE Arca', 'Market Vectors Junior Gold Miners ETF'], 'VAW': ['NYSE Arca', 'Vanguard Materials'], 'FDN': ['NYSE Arca', 'First Trust Dow Jones Internet Index'], 'XLK': ['NYSE Arca', 'Technology Select Sector SPDR'], 'IYW': ['NYSE Arca', 'iShares Dow Jones US Technology'], 'IGV': ['NYSE Arca', 'iShares North American Tech-Software'], 'VGT': ['NYSE Arca', 'Vanguard Information Technology'], 'IYZ': ['NYSE Arca', 'iShares Dow Jones US Telecommunications'], 'VOX': ['NYSE Arca', 'Vanguard Telecommunication Services'], 'XLU': ['NYSE Arca', 'Utilities Select Sector SPDR'], 'IDU': ['NYSE Arca', 'iShares Dow Jones US Utilities'], 'VPU': ['NYSE Arca', 'Vanguard Utilities'], 'IPD': ['NYSE Arca', 'SPDR S&P International Consumer Discretionary'], 'RXI': ['NYSE Arca', 'iShares S&P Global Consumer Discretionary'], 'IPS': ['NYSE Arca', 'SPDR S&P International Consumer Staples'], 'KXI': ['NYSE Arca', 'iShares S&P Global Consumer Staples'], 'IPW': ['NYSE Arca', 'SPDR S&P International Energy'], 'IXC': ['NYSE Arca', 'iShares S&P Global Energy'], 'IPF': ['NYSE Arca', 'SPDR S&P International Financial'], 'IXG': ['NYSE Arca', 'iShares S&P Global Financial'], 'IRY': ['NYSE Arca', 'SPDR S&P International Health Care'], 'IXJ': ['NYSE Arca', 'iShares S&P Global Healthcare'], 'IPN': ['NYSE Arca', 'SPDR S&P International Industrial'], 'EXI': ['NYSE Arca', 'iShares S&P Global Industrials'], 'GUNR': ['NYSE Arca', 'FlexShares Mstar Gbl Upstrm Nat Res ETF'], 'IRV': ['NYSE Arca', 'SPDR S&P International Materials'], 'MXI': ['NYSE Arca', 'iShares S7P Global Materials'], 'IPK': ['NYSE Arca', 'SPDR S&P International Technology'], 'IXN': ['NYSE Arca', 'iShares S&P Global Technology'], 'IST': ['NYSE Arca', 'SPDR S&P International Telecommunications'], 'IXP': ['NYSE Arca', 'iShares S&P Global Telecommunications'], 'IPU': ['NYSE Arca', 'SPDR S&P International Utilities'], 'JXI': ['NYSE Arca', 'iShares S&P Global Utilities'], 'HYLD': ['NYSE Arca', 'AdvisorShares Peritus High Yield ETF'], 'TDTT': ['NYSE Arca', 'FlexShares iBoxx 3Yr Target Dur TIPS ETF'], 'CSJ': ['NYSE Arca', 'iShares 1-3 Year Credit Bond'], 'IEI': ['NYSE Arca', 'iShares 3-7 Year Treasury Bond'], 'AGG': ['NYSE Arca', 'iShares Barclays Aggregate Bond'], 'SHY': ['NYSE Arca', 'iShares Barclays 1-3 Year Treasury Bond'], 'TIP': ['NYSE Arca', 'iShares Barclays TIPS Bond'], 'HYG': ['NYSE Arca', 'iShares iBoxx $ High Yield Corp Bond'], 'LQD': ['NYSE Arca', 'iShares iBoxx $ Invest Grade Corp Bond'], 'IEF': ['NYSE Arca', 'iShares Barclays 7-10 Year Treasury'], 'TLT': ['NYSE Arca', 'iShares Barclays 20+ Year Treas Bond'], 'FLOT': ['NYSE Arca', 'iShares Floating Rate Bond'], 'CIU': ['NYSE Arca', 'iShares Intermediate Credit Bd'], 'GVI': ['NYSE Arca', 'iShares Intm Government/Credit Bond'], 'EMB': ['NYSE Arca', 'iShares JPMorgan USD Emerg Markets Bond'], 'MBB': ['NYSE Arca', 'iShares MBS'], 'MUB': ['NYSE Arca', 'iShares National AMT-Free Muni Bond'], 'SHV': ['NYSE Arca', 'iShares Short Treasury Bond'], 'HYD': ['NYSE Arca', 'Market Vectors High-Yield Muni ETF'], 'HYS': ['NYSE Arca', 'PIMCO 0-5 Year High Yld Corp Bd Idx ETF'], 'STPZ': ['NYSE Arca', 'PIMCO 1-5 Year US TIPS Index ETF'], 'MINT': ['NYSE Arca', 'PIMCO Enhanced Short Duration ETF'], 'BOND': ['NYSE Arca', 'PIMCO Total Return ETF'], 'PCY': ['NYSE Arca', 'PowerShares Emerging Mkts Sovereign Debt'], 'BKLN': ['NYSE Arca', 'PowerShares Senior Loan Port'], 'SCHZ': ['NYSE Arca', 'Schwab US Aggregate Bond'], 'SCHP': ['NYSE Arca', 'Schwab US TIPS'], 'SCHO': ['NYSE Arca', 'Schwab Short-Term US Treasury'], 'SCHR': ['NYSE Arca', 'Schwab Intermediate-Term US Treasury'], 'JNK': ['NYSE Arca', 'SPDR Barclays Capital High Yield Bond ETF'], 'BIL': ['NYSE Arca', 'SPDR Barclays 1-3 Month T-Bill'], 'SCPB': ['NYSE Arca', 'SPDR Barclays Capital Short Term Corp Bd'], 'BWX': ['NYSE Arca', 'SPDR Barclays International Treasury Bd'], 'SJNK': ['NYSE Arca', 'SPDR Barclays Short Term Hi Yld Bd ETF'], 'TFI': ['NYSE Arca', 'SPDR Nuveen Barclays Capital Muni Bond'], 'SHM': ['NYSE Arca', 'SPDR Nuveen Barclays Capital S/T Muni Bd'], 'EDV': ['NYSE Arca', 'Vanguard Extended Duration Treasury'], 'BIV': ['NYSE Arca', 'Vanguard Intermediate-Term Bond'], 'VCIT': ['NYSE Arca', 'Vanguard Intermediate-Term Corporate Bond'], 'VGIT': ['NYSE Arca', 'Vanguard Intermediate-Term Government Bond'], 'BLV': ['NYSE Arca', 'Vanguard Long-Term Bond'], 'VCLT': ['NYSE Arca', 'Vanguard Long-Term Corporate Bond'], 'VGLT': ['NYSE Arca', 'Vanguard Long-Term Government Bond'], 'VMBS': ['NYSE Arca', 'Vanguard Mortgage-Backed Securities'], 'BSV': ['NYSE Arca', 'Vanguard Short-Term Bond'], 'VCSH': ['NYSE Arca', 'Vanguard Short-Term Corporate Bond'], 'VGSH': ['NYSE Arca', 'Vanguard Short-Term Government Bond'], 'BND': ['NYSE Arca', 'Vanguard Total Bond Market'], 'RJI': ['NYSE Arca', 'ELEMENTS Rogers International Commodity Index ETN'], 'DJP': ['NYSE Arca', 'iPath Dow Jones-UBS Commodity Idx TR ETN'], 'GSG': ['NYSE Arca', 'iShares S&P GSCI Commodity-Indexed Trust'], 'DBC': ['NYSE Arca', 'PowerShares DB Commodity Idx Trking Fund'], 'RJA': ['NYSE Arca', 'ELEMENTS Rogers Agriculture ETN'], 'JJA': ['NYSE Arca', 'iPath Dow Jones-UBS Agriculture ETN'], 'DBA': ['NYSE Arca', 'PowerShares DB Agriculture'], 'RJN': ['NYSE Arca', 'ELEMENTS Rogers Energy ETN'], 'OIL': ['NYSE Arca', 'iPath Dow Jones-UBS Crude Oil ETN'], 'GAZ': ['NYSE Arca', 'iPath Dow Jones-UBS Natural Gas ETN'], 'UNG': ['NYSE Arca', 'United States Natural Gas Fund'], 'USO': ['NYSE Arca', 'United States Oil Fund'], 'RJZ': ['NYSE Arca', 'ELEMENTS Rogers Metal ETN'], 'JJM': ['NYSE Arca', 'iPath Dow Jones-UBS Industrial Metals ETN'], 'DBB': ['NYSE Arca', 'PowerShares DB Base Metals'], 'SGOL': ['NYSE Arca', 'ETFS Physical Swiss Gold Shares'], 'IAU': ['NYSE Arca', 'iShares Gold Trust'], 'GLD': ['NYSE Arca', 'SPDR Gold Shares'], 'SIVR': ['NYSE Arca', 'ETFS Physical Silver Shares'], 'SLV': ['NYSE Arca', 'iShares Silver Trust'], 'PALL': ['NYSE Arca', 'ETFS Physical Palladium Shares'], 'PPLT': ['NYSE Arca', 'ETFS Physical Platinum Shares'], 'ICF': ['NYSE Arca', 'iShares Cohen & Steers Realty Majors'], 'IFAS': ['NYSE Arca', 'iShares Dow Jones Asia Real Estate'], 'IFEU': ['NYSE Arca', 'iShares Dow Jones Europe Real Estate'], 'IYR': ['NYSE Arca', 'iShares Dow Jones US Real Estate'], 'REM': ['NYSE Arca', 'iShares Mortgage Real Estate Capped'], 'SCHH': ['NYSE Arca', 'Schwab US REIT'], 'RWO': ['NYSE Arca', 'SPDR Dow Jones Global Real Estate'], 'RWX': ['NYSE Arca', 'SPDR Dow Jones Intl Real Estate'], 'RWR': ['NYSE Arca', 'SPDR Dow Jones REIT ETF'], 'WREI': ['NYSE Arca', 'Wilshire US REIT ETF'], 'VNQ': ['NYSE Arca', 'Vanguard REIT'], 'VNQI': ['NYSE Arca', 'Vanguard Global ex-US Real Estate'], 'HDGE': ['NYSE Arca', 'AdvisorShares Ranger Equity Bear ETF'], 'HDGI': ['NYSE Arca', 'AdvisorShares Athena International Bear ETF'], 'DOG': ['NYSE Arca', 'ProShares Short Dow 30'], 'SH': ['NYSE Arca', 'ProShares Short S&P 500'], 'MYY': ['NYSE Arca', 'ProShares Short S&P MidCap 400'], 'SBB': ['NYSE Arca', 'ProShares Short S&P SmallCap 600'], 'PSQ': ['NYSE Arca', 'ProShares Short Nasdaq 100'], 'RWM': ['NYSE Arca', 'ProShares Short Russell 2000'], 'EFZ': ['NYSE Arca', 'ProShares Short MSCI EAFE'], 'FBGX': ['NYSE Arca', 'UBS AG FI Enhanced Large Cap Growth 2x ETF'], 'FLGE': ['NYSE Arca', 'Credit Suisse FI Large Cap Growth Enhanced ETF'], 'MIDU': ['NYSE Arca', 'Direxion Daily Mid Cap Bull 3x ETF'], 'SPUU': ['NYSE Arca', 'Direxion Daily S&P 500 Bull 2x ETF'], 'SPXL': ['NYSE Arca', 'Direxion Daily S&P 500 Bull 3x ETF'], 'ERX': ['NYSE Arca', 'Direxion Energy Bull 3x ETF'], 'FAS': ['NYSE Arca', 'Direxion Financials Bull 3x ETF'], 'BGU': ['NYSE Arca', 'Direxion Large Cap Bull 3x'], 'TNA': ['NYSE Arca', 'Direxion Small Cap Bull 3x'], 'DDM': ['NYSE Arca', 'ProShares Ultra Dow 30'], 'QLD': ['NYSE Arca', 'ProShares Ultra NASDAQ-100'], 'UWM': ['NYSE Arca', 'ProShares Ultra Russell 2000'], 'SSO': ['NYSE Arca', 'ProShares Ultra S&P 500'], 'UPRO': ['NYSE Arca', 'ProShares S&P 500 3x'], 'SDS': ['NYSE Arca', 'UltraShort S&P 500 ProShares 2x'], 'SPXU': ['NYSE Arca', 'ProShares S&P 500 Direxionshares Bear 3x ETF'], 'TZA': ['NYSE Arca', 'Direxion Russell 2000 Direxionshares Bear 3x ETF'], 'QID': ['NYSE Arca', 'UltraShort NASDAQ-100 ProShares  2X'], 'SKF': ['NYSE Arca', 'UltraShort Financials ProShares'], 'TWM': ['NYSE Arca', 'UltraShort Russell 2000 ProShares'], 'DXD': ['NYSE Arca', 'UltraShort Dow 30 ProShares'], 'SRS': ['NYSE Arca', 'UltraShort Real Estate ProShares'], 'MZZ': ['NYSE Arca', 'UltraShort MidCap 400 ProShares'], 'DUG': ['NYSE Arca', 'UltraShort Oil & Gas ProShares'], 'BGZ': ['NYSE Arca', 'Direxion Large Cap Bear 3x ETF'], 'ERY': ['NYSE Arca', 'Direxion Energy Bear 3x ETF'], 'FAZ': ['NYSE Arca', 'Direxion Financials Bear 3x ETF'], 'AADR': ['NYSE Arca', 'AdvisorShares WCM/BNY Mellon Focused Growth ADR ETF'], 'ACCU': ['NYSE Arca', 'AdvisorShares Accuvest Global Opportunities ETF'], 'DBIZ': ['NYSE Arca', 'AdvisorShares Pring Turner Business Cycle ETF'], 'EPRO': ['NYSE Arca', 'AdvisorShares EquityPro ETF'], 'FWDB': ['NYSE Arca', 'AdvisorShares Madrona Global Bond ETF'], 'FWDD': ['NYSE Arca', 'AdvisorShares Madrona Domestic ETF'], 'FWDI': ['NYSE Arca', 'AdvisorShares Madrona International ETF'], 'GEUR': ['NYSE Arca', 'AdvisorShares Gartman Gold/Euro ETF'], 'GGBP': ['NYSE Arca', 'AdvisorShares Gartman Gold/British Pound ETF'], 'GIVE': ['NYSE Arca', 'AdvisorShares Global Echo ETF'], 'GLDE': ['NYSE Arca', 'AdvisorShares International Gold ETF'], 'GYEN': ['NYSE Arca', 'AdvisorShares Gartman Gold/Yen ETF'], 'GTAA': ['NYSE Arca', 'AdvisorShares Cambria Global Tactical ETF'], 'HOLD': ['NYSE Arca', 'AdvisorShares Sage Core Reserves ETF'], 'MATH': ['NYSE Arca', 'AdvisorShares Meidell Tactical Advantage ETF'], 'MINC': ['NYSE Arca', 'AdvisorShares Newfleet Multi-Sector Income ETF'], 'QEH': ['NYSE Arca', 'AdvisorShares QAM Equity Hedge ETF'], 'TTFS': ['NYSE Arca', 'AdvisorShares TrimTabs Float Shrink ETF'], 'VEGA': ['NYSE Arca', 'AdvisorShares STAR Global Buy-Write ETF'], 'YPRO': ['NYSE Arca', 'AdvisorShares YieldPro ETF'], 'RIGS': ['NYSE Arca', 'Riverfront Strategic Income Fund'], 'ARKG': ['NYSE Arca', 'ARK Genomic Revolution Multi-Sector ETF'], 'ARKQ': ['NYSE Arca', 'ARK Industrial Innovation ETF'], 'ARKW': ['NYSE Arca', 'ARK Web x.0 ETF'], 'ARKK': ['NYSE Arca', 'ARK Innovation ETF'], 'SYLD': ['NYSE Arca', 'Cambria Shareholder Yield ETF'], 'GMMB': ['NYSE Arca', 'Columbia Intermediate Municipal Bond ETF'], 'GMTB': ['NYSE Arca', 'Columbia Core Bond ETF'], 'GVT': ['NYSE Arca', 'Columbia Select Large Cap Value ETF'], 'RPX': ['NYSE Arca', 'Columbia Large Cap Growth ETF'], 'RWG': ['NYSE Arca', 'Columbia Select Large Cap Growth ETF'], 'EMLP': ['NYSE Arca', 'First Trust North American Energy Infrastructure Fund'], 'FMB': ['NYSE Arca', 'First Trust Managed Municipal ETF'], 'FMF': ['NYSE Arca', 'First Trust Morningstar Managed Futures Strategy Fund'], 'FPE': ['NYSE Arca', 'First Trust Preferred Securities and Income ETF'], 'FTGS': ['NYSE Arca', 'First Trust Global Tactical Commodity Strategy Fund'], 'FTHI': ['NYSE Arca', 'First Trust High Income ETF'], 'FTLB': ['NYSE Arca', 'First Trust Low Beta Income ETF'], 'FTSL': ['NYSE Arca', 'First Trust Senior Loan ETF'], 'HYLS': ['NYSE Arca', 'First Trust Tactical High Yield ETF'], 'RAVI': ['NYSE Arca', 'Flexshares Ready Access Variable Income Fund'], 'FTSD': ['NYSE Arca', 'Franklin Short Duration US Government ETF'], 'GSY': ['NYSE Arca', 'Guggenheim Enhanced Short Duration Bond ETF'], 'HECO': ['NYSE Arca', 'Huntington EcoLogical Strategy ETF'], 'HUSE': ['NYSE Arca', 'Huntington U.S. Equity Rotation Strategy ETF'], 'ICSH': ['NYSE Arca', 'iShares Liquidity Income ETF'], 'IEIL': ['NYSE Arca', 'iShares Enhanced International Large-Cap ETF'], 'IEIS': ['NYSE Arca', 'iShares Enhanced International Small-Cap ETF'], 'IELG': ['NYSE Arca', 'iShares Enhanced U.S. Large-Cap ETF'], 'IESM': ['NYSE Arca', 'iShares Enhanced U.S. Small-Cap ETF'], 'NEAR': ['NYSE Arca', 'iShares Short Maturity Bond ETF'], 'BABZ': ['NYSE Arca', 'PIMCO Build America Bond Strategy'], 'DI': ['NYSE Arca', 'PIMCO Diversified Income ETF'], 'FORX': ['NYSE Arca', 'PIMCO Foreign Currency Strategy ETF'], 'ILB': ['NYSE Arca', 'PIMCO Global Advantage Inflation-Linked Bond Strategy'], 'LDUR': ['NYSE Arca', 'PIMCO Low Duration ETF'], 'MUNI': ['NYSE Arca', 'PIMCO Intermediate Muni Bond Strategy ETF'], 'SMMU': ['NYSE Arca', 'PIMCO Short Term Muni Bond Strategy ETF'], 'CHNA': ['NYSE Arca', 'PowerShares China-A Share Portfolio'], 'LALT': ['NYSE Arca', 'PowerShares Multi-Strategy Alternative Portfolio'], 'PHDG': ['NYSE Arca', 'S&P 500 Downside Hedged Portfolio'], 'PSR': ['NYSE Arca', 'Active U.S. Real Estate Fund ETF'], 'ONEF': ['NYSE Arca', 'Russell Equity ETF'], 'GAL': ['NYSE Arca', 'SPDR SSgA Global Allocation'], 'INKM': ['NYSE Arca', 'SPDR SSgA Income Allocation'], 'RLY': ['NYSE Arca', 'SPDR SSgA Multi-Asset Real Return'], 'SYE': ['NYSE Arca', 'SPDR MFS Systematic Core Equity ETF'], 'SYG': ['NYSE Arca', 'SPDR MFS Systematic Growth Equity ETF'], 'SYV': ['NYSE Arca', 'SPDR MFS Systematic Value Equity ETF'], 'SRLN': ['NYSE Arca', 'SPDR Blackstone/GSO Senior Loan ETF'], 'ULST': ['NYSE Arca', 'SPDR SSgA Ultra Short Term Bond ETF'], 'ALD': ['NYSE Arca', 'WisdomTree Asia Local Debt'], 'AUNZ': ['NYSE Arca', 'WisdomTree Australia & New Zealand Debt Fund'], 'BZF': ['NYSE Arca', 'WisdomTree Dreyfus Brazilian Real Fund'], 'CCX': ['NYSE Arca', 'WisdomTree Commodity Currency'], 'CEW': ['NYSE Arca', 'WisdomTree Dreyfus Emerging Currency'], 'CRDT': ['NYSE Arca', 'WisdomTree Strategic Corporate Bond Fund'], 'CYB': ['NYSE Arca', 'WisdomTree Dreyfus Chinese Yuan'], 'ELD': ['NYSE Arca', 'WisdomTree Emerging Markets Local Debts Fund'], 'EMCB': ['NYSE Arca', 'WisdomTree Emerging Markets Corporate Bond Fund'], 'EU': ['NYSE Arca', 'WisdomTree Euro Debt Fund'], 'ICB': ['NYSE Arca', 'WisdomTree Dreyfus Indian Rupee'], 'RRF': ['NYSE Arca', 'WisdomTree Global Real Return'], 'USDU': ['NYSE Arca', 'WisdomTree Bloomberg U.S. Dollar Bullish Fund'], 'WDTI': ['NYSE Arca', 'WisdomTree Managed Futures Strategy Fund']}\n",
      "\n",
      "\n",
      "                        DIA                              RSP  \\\n",
      "0                 NYSE Arca                        NYSE Arca   \n",
      "1  DIAMONDS Trust, Series 1  Guggenheim S&P 500 Equal Weight   \n",
      "\n",
      "                            IOO                    IVV           SPY  \\\n",
      "0                     NYSE Arca              NYSE Arca     NYSE Arca   \n",
      "1  iShares S&P Global 100 Index  iShares S&P 500 Index  SPDR S&P 500   \n",
      "\n",
      "                VOO                         IWM                    OEF  \\\n",
      "0         NYSE Arca                   NYSE Arca              NYSE Arca   \n",
      "1  Vanguard S&P 500  iShares Russell 2000 Index  iShares S&P 100 Index   \n",
      "\n",
      "                             CVY                                 RPG  ...  \\\n",
      "0                      NYSE Arca                           NYSE Arca  ...   \n",
      "1  Guggenheim Multi-Asset Income  Guggenheim S&P 500 Pure Growth ETF  ...   \n",
      "\n",
      "                                    CEW  \\\n",
      "0                             NYSE Arca   \n",
      "1  WisdomTree Dreyfus Emerging Currency   \n",
      "\n",
      "                                       CRDT                              CYB  \\\n",
      "0                                 NYSE Arca                        NYSE Arca   \n",
      "1  WisdomTree Strategic Corporate Bond Fund  WisdomTree Dreyfus Chinese Yuan   \n",
      "\n",
      "                                            ELD  \\\n",
      "0                                     NYSE Arca   \n",
      "1  WisdomTree Emerging Markets Local Debts Fund   \n",
      "\n",
      "                                              EMCB                         EU  \\\n",
      "0                                        NYSE Arca                  NYSE Arca   \n",
      "1  WisdomTree Emerging Markets Corporate Bond Fund  WisdomTree Euro Debt Fund   \n",
      "\n",
      "                               ICB                            RRF  \\\n",
      "0                        NYSE Arca                      NYSE Arca   \n",
      "1  WisdomTree Dreyfus Indian Rupee  WisdomTree Global Real Return   \n",
      "\n",
      "                                            USDU  \\\n",
      "0                                      NYSE Arca   \n",
      "1  WisdomTree Bloomberg U.S. Dollar Bullish Fund   \n",
      "\n",
      "                                       WDTI  \n",
      "0                                 NYSE Arca  \n",
      "1  WisdomTree Managed Futures Strategy Fund  \n",
      "\n",
      "[2 rows x 375 columns]\n"
     ]
    }
   ],
   "source": [
    "# ex 2 - 5 미국 ETF 리스트 가져오기\n",
    "\n",
    "from bs4 import BeautifulSoup\n",
    "import requests\n",
    "import re\n",
    "import pandas as pd\n",
    "\n",
    "url = \"https://en.wikipedia.org/wiki/List_of_American_exchange-traded_funds\"\n",
    "resp = requests.get(url)\n",
    "soup = BeautifulSoup(resp.text, 'lxml')   \n",
    "rows = soup.select('div > ul > li')\n",
    "    \n",
    "etfs = {}\n",
    "for row in rows:\n",
    "    \n",
    "    try:\n",
    "        etf_name = re.findall('^(.*) \\(NYSE', row.text)\n",
    "        etf_market = re.findall('\\((.*)\\|', row.text)\n",
    "        etf_ticker = re.findall('NYSE Arca\\|(.*)\\)', row.text)\n",
    "        \n",
    "        if (len(etf_ticker) > 0) and (len(etf_market)) > 0 and (len(etf_name) > 0):\n",
    "            etfs[etf_ticker[0]] = [etf_market[0], etf_name[0]]\n",
    "\n",
    "    except AttributeError as err:\n",
    "        pass    \n",
    "\n",
    "print(etfs)\n",
    "print('\\n')\n",
    "\n",
    "df = pd.DataFrame(etfs)\n",
    "print(df)"
   ]
  },
  {
   "cell_type": "markdown",
   "metadata": {},
   "source": []
  },
  {
   "cell_type": "code",
   "execution_count": 7,
   "metadata": {},
   "outputs": [],
   "source": [
    "# ex 2 - 7 CSV 파일로 저장\n",
    "import pandas as pd\n",
    "\n",
    "data = {'name': ['Jerry', 'Riah', 'Paul'],\n",
    "        'algol': ['A', 'A+', 'B'],\n",
    "        'basic': ['C', 'B', 'B+'],\n",
    "        'c++': ['B+', 'C', 'C+']}\n",
    "\n",
    "df = pd.DataFrame(data)\n",
    "df.set_index('name', inplace=True)\n",
    "df.to_csv('./df_sample.csv')"
   ]
  },
  {
   "cell_type": "code",
   "execution_count": 8,
   "metadata": {},
   "outputs": [],
   "source": [
    "# ex 2 - 8 JSON 파일로 저장\n",
    "import pandas as pd\n",
    "\n",
    "data = {'name': ['Jerry', 'Riah', 'Paul'],\n",
    "        'algol': ['A', 'A+', 'B'],\n",
    "        'basic': ['C', 'B', 'B+'],\n",
    "        'c++': ['B+', 'C', 'C+']}\n",
    "\n",
    "df = pd.DataFrame(data)\n",
    "df.set_index('name', inplace=True)\n",
    "df.to_json('./df_sample.json')"
   ]
  },
  {
   "cell_type": "code",
   "execution_count": 9,
   "metadata": {},
   "outputs": [],
   "source": [
    "# ex 2 - 9 Excel 파일로 저장\n",
    "import pandas as pd\n",
    "\n",
    "data = {'name': ['Jerry', 'Riah', 'Paul'],\n",
    "        'algol': ['A', 'A+', 'B'],\n",
    "        'basic': ['C', 'B', 'B+'],\n",
    "        'c++': ['B+', 'C', 'C+']}\n",
    "\n",
    "df = pd.DataFrame(data)\n",
    "df.set_index('name', inplace=True)\n",
    "df.to_excel('./df_sample.xlsx')"
   ]
  },
  {
   "cell_type": "code",
   "execution_count": 11,
   "metadata": {},
   "outputs": [
    {
     "name": "stdout",
     "output_type": "stream",
     "text": [
      "      algol basic c++\n",
      "name                 \n",
      "Jerry     A     C  B+\n",
      "Riah     A+     B   C\n",
      "Paul      B    B+  C+\n",
      "\n",
      "\n",
      "    c1  c2  c3  c4\n",
      "c0                \n",
      "1    4   7  10  13\n",
      "2    5   8  11  14\n",
      "3    6   9  12  15\n",
      "\n",
      "\n"
     ]
    }
   ],
   "source": [
    "# ex 2 - 10 ExcelWriter()\n",
    "import pandas as pd\n",
    "\n",
    "data1 = {'name': ['Jerry', 'Riah', 'Paul'],\n",
    "        'algol': ['A', 'A+', 'B'],\n",
    "        'basic': ['C', 'B', 'B+'],\n",
    "        'c++': ['B+', 'C', 'C+']}\n",
    "\n",
    "data2 = {'c0': [1,2,3],\n",
    "         'c1': [4,5,6],\n",
    "         'c2': [7,8,9],\n",
    "         'c3': [10,11,12],\n",
    "         'c4': [13,14,15]}\n",
    "\n",
    "df1 = pd.DataFrame(data1)\n",
    "df1.set_index('name', inplace=True)\n",
    "print(df1)\n",
    "print('\\n')\n",
    "\n",
    "df2 = pd.DataFrame(data2)\n",
    "df2.set_index('c0', inplace=True)\n",
    "print(df2)\n",
    "print('\\n')\n",
    "\n",
    "writer = pd.ExcelWriter('./df_excelwriter.xlsx')\n",
    "df1.to_excel(writer, sheet_name='sheet1')\n",
    "df2.to_excel(writer, sheet_name='sheet2')\n",
    "writer.save()"
   ]
  }
 ],
 "metadata": {
  "kernelspec": {
   "display_name": "Python 3",
   "language": "python",
   "name": "python3"
  },
  "language_info": {
   "codemirror_mode": {
    "name": "ipython",
    "version": 3
   },
   "file_extension": ".py",
   "mimetype": "text/x-python",
   "name": "python",
   "nbconvert_exporter": "python",
   "pygments_lexer": "ipython3",
   "version": "3.8.5"
  }
 },
 "nbformat": 4,
 "nbformat_minor": 4
}
